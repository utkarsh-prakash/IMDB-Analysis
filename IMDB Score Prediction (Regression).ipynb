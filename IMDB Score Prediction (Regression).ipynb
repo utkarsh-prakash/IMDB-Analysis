{
 "cells": [
  {
   "cell_type": "code",
   "execution_count": 1,
   "metadata": {},
   "outputs": [],
   "source": [
    "import pandas as pd\n",
    "import matplotlib.pyplot as plt\n",
    "from tqdm import tqdm\n",
    "import numpy as np\n",
    "import statistics\n",
    "from sklearn.impute import SimpleImputer\n",
    "import seaborn as sns\n",
    "from sklearn.model_selection import StratifiedShuffleSplit\n",
    "from sklearn.linear_model import LinearRegression\n",
    "from sklearn.linear_model import SGDRegressor\n",
    "from sklearn.metrics import mean_squared_error\n",
    "from sklearn.tree import DecisionTreeRegressor\n",
    "from sklearn.model_selection import cross_val_score, cross_val_predict\n",
    "from sklearn.preprocessing import PolynomialFeatures"
   ]
  },
  {
   "cell_type": "code",
   "execution_count": 2,
   "metadata": {},
   "outputs": [],
   "source": [
    "movie = pd.read_csv('movie_metadata.csv')"
   ]
  },
  {
   "cell_type": "markdown",
   "metadata": {},
   "source": [
    "### DATA EXPLORATION AND DATA CLEANING"
   ]
  },
  {
   "cell_type": "code",
   "execution_count": 3,
   "metadata": {},
   "outputs": [
    {
     "data": {
      "text/plain": [
       "(5043, 28)"
      ]
     },
     "execution_count": 3,
     "metadata": {},
     "output_type": "execute_result"
    }
   ],
   "source": [
    "movie.shape"
   ]
  },
  {
   "cell_type": "code",
   "execution_count": 4,
   "metadata": {},
   "outputs": [
    {
     "data": {
      "text/html": [
       "<div>\n",
       "<style scoped>\n",
       "    .dataframe tbody tr th:only-of-type {\n",
       "        vertical-align: middle;\n",
       "    }\n",
       "\n",
       "    .dataframe tbody tr th {\n",
       "        vertical-align: top;\n",
       "    }\n",
       "\n",
       "    .dataframe thead th {\n",
       "        text-align: right;\n",
       "    }\n",
       "</style>\n",
       "<table border=\"1\" class=\"dataframe\">\n",
       "  <thead>\n",
       "    <tr style=\"text-align: right;\">\n",
       "      <th></th>\n",
       "      <th>color</th>\n",
       "      <th>director_name</th>\n",
       "      <th>num_critic_for_reviews</th>\n",
       "      <th>duration</th>\n",
       "      <th>director_facebook_likes</th>\n",
       "      <th>actor_3_facebook_likes</th>\n",
       "      <th>actor_2_name</th>\n",
       "      <th>actor_1_facebook_likes</th>\n",
       "      <th>gross</th>\n",
       "      <th>genres</th>\n",
       "      <th>...</th>\n",
       "      <th>num_user_for_reviews</th>\n",
       "      <th>language</th>\n",
       "      <th>country</th>\n",
       "      <th>content_rating</th>\n",
       "      <th>budget</th>\n",
       "      <th>title_year</th>\n",
       "      <th>actor_2_facebook_likes</th>\n",
       "      <th>imdb_score</th>\n",
       "      <th>aspect_ratio</th>\n",
       "      <th>movie_facebook_likes</th>\n",
       "    </tr>\n",
       "  </thead>\n",
       "  <tbody>\n",
       "    <tr>\n",
       "      <th>0</th>\n",
       "      <td>Color</td>\n",
       "      <td>James Cameron</td>\n",
       "      <td>723.0</td>\n",
       "      <td>178.0</td>\n",
       "      <td>0.0</td>\n",
       "      <td>855.0</td>\n",
       "      <td>Joel David Moore</td>\n",
       "      <td>1000.0</td>\n",
       "      <td>760505847.0</td>\n",
       "      <td>Action|Adventure|Fantasy|Sci-Fi</td>\n",
       "      <td>...</td>\n",
       "      <td>3054.0</td>\n",
       "      <td>English</td>\n",
       "      <td>USA</td>\n",
       "      <td>PG-13</td>\n",
       "      <td>237000000.0</td>\n",
       "      <td>2009.0</td>\n",
       "      <td>936.0</td>\n",
       "      <td>7.9</td>\n",
       "      <td>1.78</td>\n",
       "      <td>33000</td>\n",
       "    </tr>\n",
       "    <tr>\n",
       "      <th>1</th>\n",
       "      <td>Color</td>\n",
       "      <td>Gore Verbinski</td>\n",
       "      <td>302.0</td>\n",
       "      <td>169.0</td>\n",
       "      <td>563.0</td>\n",
       "      <td>1000.0</td>\n",
       "      <td>Orlando Bloom</td>\n",
       "      <td>40000.0</td>\n",
       "      <td>309404152.0</td>\n",
       "      <td>Action|Adventure|Fantasy</td>\n",
       "      <td>...</td>\n",
       "      <td>1238.0</td>\n",
       "      <td>English</td>\n",
       "      <td>USA</td>\n",
       "      <td>PG-13</td>\n",
       "      <td>300000000.0</td>\n",
       "      <td>2007.0</td>\n",
       "      <td>5000.0</td>\n",
       "      <td>7.1</td>\n",
       "      <td>2.35</td>\n",
       "      <td>0</td>\n",
       "    </tr>\n",
       "    <tr>\n",
       "      <th>2</th>\n",
       "      <td>Color</td>\n",
       "      <td>Sam Mendes</td>\n",
       "      <td>602.0</td>\n",
       "      <td>148.0</td>\n",
       "      <td>0.0</td>\n",
       "      <td>161.0</td>\n",
       "      <td>Rory Kinnear</td>\n",
       "      <td>11000.0</td>\n",
       "      <td>200074175.0</td>\n",
       "      <td>Action|Adventure|Thriller</td>\n",
       "      <td>...</td>\n",
       "      <td>994.0</td>\n",
       "      <td>English</td>\n",
       "      <td>UK</td>\n",
       "      <td>PG-13</td>\n",
       "      <td>245000000.0</td>\n",
       "      <td>2015.0</td>\n",
       "      <td>393.0</td>\n",
       "      <td>6.8</td>\n",
       "      <td>2.35</td>\n",
       "      <td>85000</td>\n",
       "    </tr>\n",
       "    <tr>\n",
       "      <th>3</th>\n",
       "      <td>Color</td>\n",
       "      <td>Christopher Nolan</td>\n",
       "      <td>813.0</td>\n",
       "      <td>164.0</td>\n",
       "      <td>22000.0</td>\n",
       "      <td>23000.0</td>\n",
       "      <td>Christian Bale</td>\n",
       "      <td>27000.0</td>\n",
       "      <td>448130642.0</td>\n",
       "      <td>Action|Thriller</td>\n",
       "      <td>...</td>\n",
       "      <td>2701.0</td>\n",
       "      <td>English</td>\n",
       "      <td>USA</td>\n",
       "      <td>PG-13</td>\n",
       "      <td>250000000.0</td>\n",
       "      <td>2012.0</td>\n",
       "      <td>23000.0</td>\n",
       "      <td>8.5</td>\n",
       "      <td>2.35</td>\n",
       "      <td>164000</td>\n",
       "    </tr>\n",
       "    <tr>\n",
       "      <th>4</th>\n",
       "      <td>NaN</td>\n",
       "      <td>Doug Walker</td>\n",
       "      <td>NaN</td>\n",
       "      <td>NaN</td>\n",
       "      <td>131.0</td>\n",
       "      <td>NaN</td>\n",
       "      <td>Rob Walker</td>\n",
       "      <td>131.0</td>\n",
       "      <td>NaN</td>\n",
       "      <td>Documentary</td>\n",
       "      <td>...</td>\n",
       "      <td>NaN</td>\n",
       "      <td>NaN</td>\n",
       "      <td>NaN</td>\n",
       "      <td>NaN</td>\n",
       "      <td>NaN</td>\n",
       "      <td>NaN</td>\n",
       "      <td>12.0</td>\n",
       "      <td>7.1</td>\n",
       "      <td>NaN</td>\n",
       "      <td>0</td>\n",
       "    </tr>\n",
       "  </tbody>\n",
       "</table>\n",
       "<p>5 rows × 28 columns</p>\n",
       "</div>"
      ],
      "text/plain": [
       "   color      director_name  num_critic_for_reviews  duration  \\\n",
       "0  Color      James Cameron                   723.0     178.0   \n",
       "1  Color     Gore Verbinski                   302.0     169.0   \n",
       "2  Color         Sam Mendes                   602.0     148.0   \n",
       "3  Color  Christopher Nolan                   813.0     164.0   \n",
       "4    NaN        Doug Walker                     NaN       NaN   \n",
       "\n",
       "   director_facebook_likes  actor_3_facebook_likes      actor_2_name  \\\n",
       "0                      0.0                   855.0  Joel David Moore   \n",
       "1                    563.0                  1000.0     Orlando Bloom   \n",
       "2                      0.0                   161.0      Rory Kinnear   \n",
       "3                  22000.0                 23000.0    Christian Bale   \n",
       "4                    131.0                     NaN        Rob Walker   \n",
       "\n",
       "   actor_1_facebook_likes        gross                           genres  ...  \\\n",
       "0                  1000.0  760505847.0  Action|Adventure|Fantasy|Sci-Fi  ...   \n",
       "1                 40000.0  309404152.0         Action|Adventure|Fantasy  ...   \n",
       "2                 11000.0  200074175.0        Action|Adventure|Thriller  ...   \n",
       "3                 27000.0  448130642.0                  Action|Thriller  ...   \n",
       "4                   131.0          NaN                      Documentary  ...   \n",
       "\n",
       "  num_user_for_reviews language  country  content_rating       budget  \\\n",
       "0               3054.0  English      USA           PG-13  237000000.0   \n",
       "1               1238.0  English      USA           PG-13  300000000.0   \n",
       "2                994.0  English       UK           PG-13  245000000.0   \n",
       "3               2701.0  English      USA           PG-13  250000000.0   \n",
       "4                  NaN      NaN      NaN             NaN          NaN   \n",
       "\n",
       "   title_year actor_2_facebook_likes imdb_score  aspect_ratio  \\\n",
       "0      2009.0                  936.0        7.9          1.78   \n",
       "1      2007.0                 5000.0        7.1          2.35   \n",
       "2      2015.0                  393.0        6.8          2.35   \n",
       "3      2012.0                23000.0        8.5          2.35   \n",
       "4         NaN                   12.0        7.1           NaN   \n",
       "\n",
       "  movie_facebook_likes  \n",
       "0                33000  \n",
       "1                    0  \n",
       "2                85000  \n",
       "3               164000  \n",
       "4                    0  \n",
       "\n",
       "[5 rows x 28 columns]"
      ]
     },
     "execution_count": 4,
     "metadata": {},
     "output_type": "execute_result"
    }
   ],
   "source": [
    "movie.head()"
   ]
  },
  {
   "cell_type": "code",
   "execution_count": 5,
   "metadata": {},
   "outputs": [],
   "source": [
    "movie = movie.drop_duplicates()\n",
    "movie.reset_index(inplace=True)"
   ]
  },
  {
   "cell_type": "code",
   "execution_count": 6,
   "metadata": {},
   "outputs": [
    {
     "data": {
      "text/plain": [
       "(4998, 29)"
      ]
     },
     "execution_count": 6,
     "metadata": {},
     "output_type": "execute_result"
    }
   ],
   "source": [
    "movie.shape"
   ]
  },
  {
   "cell_type": "code",
   "execution_count": 7,
   "metadata": {},
   "outputs": [
    {
     "name": "stdout",
     "output_type": "stream",
     "text": [
      "<class 'pandas.core.frame.DataFrame'>\n",
      "RangeIndex: 4998 entries, 0 to 4997\n",
      "Data columns (total 29 columns):\n",
      " #   Column                     Non-Null Count  Dtype  \n",
      "---  ------                     --------------  -----  \n",
      " 0   index                      4998 non-null   int64  \n",
      " 1   color                      4979 non-null   object \n",
      " 2   director_name              4895 non-null   object \n",
      " 3   num_critic_for_reviews     4949 non-null   float64\n",
      " 4   duration                   4983 non-null   float64\n",
      " 5   director_facebook_likes    4895 non-null   float64\n",
      " 6   actor_3_facebook_likes     4975 non-null   float64\n",
      " 7   actor_2_name               4985 non-null   object \n",
      " 8   actor_1_facebook_likes     4991 non-null   float64\n",
      " 9   gross                      4124 non-null   float64\n",
      " 10  genres                     4998 non-null   object \n",
      " 11  actor_1_name               4991 non-null   object \n",
      " 12  movie_title                4998 non-null   object \n",
      " 13  num_voted_users            4998 non-null   int64  \n",
      " 14  cast_total_facebook_likes  4998 non-null   int64  \n",
      " 15  actor_3_name               4975 non-null   object \n",
      " 16  facenumber_in_poster       4985 non-null   float64\n",
      " 17  plot_keywords              4846 non-null   object \n",
      " 18  movie_imdb_link            4998 non-null   object \n",
      " 19  num_user_for_reviews       4977 non-null   float64\n",
      " 20  language                   4986 non-null   object \n",
      " 21  country                    4993 non-null   object \n",
      " 22  content_rating             4697 non-null   object \n",
      " 23  budget                     4511 non-null   float64\n",
      " 24  title_year                 4891 non-null   float64\n",
      " 25  actor_2_facebook_likes     4985 non-null   float64\n",
      " 26  imdb_score                 4998 non-null   float64\n",
      " 27  aspect_ratio               4671 non-null   float64\n",
      " 28  movie_facebook_likes       4998 non-null   int64  \n",
      "dtypes: float64(13), int64(4), object(12)\n",
      "memory usage: 1.1+ MB\n"
     ]
    }
   ],
   "source": [
    "movie.info()"
   ]
  },
  {
   "cell_type": "markdown",
   "metadata": {},
   "source": [
    "#### MOVIE TITLE"
   ]
  },
  {
   "cell_type": "code",
   "execution_count": 8,
   "metadata": {
    "scrolled": true
   },
   "outputs": [
    {
     "data": {
      "text/plain": [
       "['Avatar\\xa0',\n",
       " \"Pirates of the Caribbean: At World's End\\xa0\",\n",
       " 'Spectre\\xa0',\n",
       " 'The Dark Knight Rises\\xa0',\n",
       " 'Star Wars: Episode VII - The Force Awakens\\xa0            ',\n",
       " 'John Carter\\xa0',\n",
       " 'Spider-Man 3\\xa0',\n",
       " 'Tangled\\xa0',\n",
       " 'Avengers: Age of Ultron\\xa0',\n",
       " 'Harry Potter and the Half-Blood Prince\\xa0']"
      ]
     },
     "execution_count": 8,
     "metadata": {},
     "output_type": "execute_result"
    }
   ],
   "source": [
    "movie['movie_title'].to_list()[:10]"
   ]
  },
  {
   "cell_type": "code",
   "execution_count": 9,
   "metadata": {},
   "outputs": [
    {
     "data": {
      "text/plain": [
       "['Avatar',\n",
       " \"Pirates of the Caribbean: At World's End\",\n",
       " 'Spectre',\n",
       " 'The Dark Knight Rises',\n",
       " 'Star Wars: Episode VII - The Force Awakens',\n",
       " 'John Carter',\n",
       " 'Spider-Man 3',\n",
       " 'Tangled',\n",
       " 'Avengers: Age of Ultron',\n",
       " 'Harry Potter and the Half-Blood Prince']"
      ]
     },
     "execution_count": 9,
     "metadata": {},
     "output_type": "execute_result"
    }
   ],
   "source": [
    "movie['movie_title'] = movie['movie_title'].apply(lambda x:x.strip())\n",
    "movie['movie_title'] = movie['movie_title'].apply(lambda x:x.replace('\\xa0',''))\n",
    "movie['movie_title'].to_list()[:10]"
   ]
  },
  {
   "cell_type": "markdown",
   "metadata": {},
   "source": [
    "#### GENRES"
   ]
  },
  {
   "cell_type": "code",
   "execution_count": 10,
   "metadata": {},
   "outputs": [
    {
     "data": {
      "text/html": [
       "<div>\n",
       "<style scoped>\n",
       "    .dataframe tbody tr th:only-of-type {\n",
       "        vertical-align: middle;\n",
       "    }\n",
       "\n",
       "    .dataframe tbody tr th {\n",
       "        vertical-align: top;\n",
       "    }\n",
       "\n",
       "    .dataframe thead th {\n",
       "        text-align: right;\n",
       "    }\n",
       "</style>\n",
       "<table border=\"1\" class=\"dataframe\">\n",
       "  <thead>\n",
       "    <tr style=\"text-align: right;\">\n",
       "      <th></th>\n",
       "      <th>genres</th>\n",
       "      <th>imdb_score</th>\n",
       "    </tr>\n",
       "  </thead>\n",
       "  <tbody>\n",
       "    <tr>\n",
       "      <th>0</th>\n",
       "      <td>Action|Adventure|Fantasy|Sci-Fi</td>\n",
       "      <td>7.9</td>\n",
       "    </tr>\n",
       "    <tr>\n",
       "      <th>1</th>\n",
       "      <td>Action|Adventure|Fantasy</td>\n",
       "      <td>7.1</td>\n",
       "    </tr>\n",
       "    <tr>\n",
       "      <th>2</th>\n",
       "      <td>Action|Adventure|Thriller</td>\n",
       "      <td>6.8</td>\n",
       "    </tr>\n",
       "    <tr>\n",
       "      <th>3</th>\n",
       "      <td>Action|Thriller</td>\n",
       "      <td>8.5</td>\n",
       "    </tr>\n",
       "    <tr>\n",
       "      <th>4</th>\n",
       "      <td>Documentary</td>\n",
       "      <td>7.1</td>\n",
       "    </tr>\n",
       "  </tbody>\n",
       "</table>\n",
       "</div>"
      ],
      "text/plain": [
       "                            genres  imdb_score\n",
       "0  Action|Adventure|Fantasy|Sci-Fi         7.9\n",
       "1         Action|Adventure|Fantasy         7.1\n",
       "2        Action|Adventure|Thriller         6.8\n",
       "3                  Action|Thriller         8.5\n",
       "4                      Documentary         7.1"
      ]
     },
     "execution_count": 10,
     "metadata": {},
     "output_type": "execute_result"
    }
   ],
   "source": [
    "genre_df = movie[['genres', 'imdb_score']]\n",
    "genre_df.head()"
   ]
  },
  {
   "cell_type": "code",
   "execution_count": 11,
   "metadata": {},
   "outputs": [],
   "source": [
    "genre = {}\n",
    "for i,row in genre_df.iterrows():\n",
    "    genre_list = row['genres'].split('|')\n",
    "    for gen in genre_list:\n",
    "        if gen in genre:\n",
    "            genre[gen].append(row['imdb_score'])\n",
    "        else:\n",
    "            genre[gen] = [row['imdb_score']]\n",
    "    \n",
    "for key, val in genre.items():\n",
    "    genre[key] = sum(val)/len(val)"
   ]
  },
  {
   "cell_type": "code",
   "execution_count": 12,
   "metadata": {},
   "outputs": [
    {
     "data": {
      "image/png": "[encoded data removed]",
      "text/plain": [
       "<Figure size 432x288 with 1 Axes>"
      ]
     },
     "metadata": {
      "needs_background": "light"
     },
     "output_type": "display_data"
    }
   ],
   "source": [
    "plt.bar(genre.keys(), genre.values())\n",
    "plt.xticks(rotation=90)\n",
    "plt.show()\n",
    "# Game show and reality-tv had a general low score than others, and just can be used for categorical encoding. "
   ]
  },
  {
   "cell_type": "code",
   "execution_count": 13,
   "metadata": {},
   "outputs": [],
   "source": [
    "movie['genre-GameShow'] = None\n",
    "movie['genre-RealityTV'] = None\n",
    "for i, row in movie.iterrows():\n",
    "    if 'Game-Show' in row['genres'].split('|'):\n",
    "        movie.loc[i, 'genre-GameShow'] = 1\n",
    "    else:\n",
    "        movie.loc[i, 'genre-GameShow'] = 0\n",
    "    if 'Reality-TV' in row['genres'].split('|'):\n",
    "        movie.loc[i, 'genre-RealityTV'] = 1\n",
    "    else:\n",
    "        movie.loc[i, 'genre-RealityTV'] = 0"
   ]
  },
  {
   "cell_type": "code",
   "execution_count": 14,
   "metadata": {},
   "outputs": [
    {
     "data": {
      "text/html": [
       "<div>\n",
       "<style scoped>\n",
       "    .dataframe tbody tr th:only-of-type {\n",
       "        vertical-align: middle;\n",
       "    }\n",
       "\n",
       "    .dataframe tbody tr th {\n",
       "        vertical-align: top;\n",
       "    }\n",
       "\n",
       "    .dataframe thead th {\n",
       "        text-align: right;\n",
       "    }\n",
       "</style>\n",
       "<table border=\"1\" class=\"dataframe\">\n",
       "  <thead>\n",
       "    <tr style=\"text-align: right;\">\n",
       "      <th></th>\n",
       "      <th>genres</th>\n",
       "      <th>imdb_score</th>\n",
       "    </tr>\n",
       "  </thead>\n",
       "  <tbody>\n",
       "    <tr>\n",
       "      <th>2131</th>\n",
       "      <td>Game-Show|Reality-TV|Romance</td>\n",
       "      <td>2.9</td>\n",
       "    </tr>\n",
       "    <tr>\n",
       "      <th>2356</th>\n",
       "      <td>Comedy|Drama|Reality-TV|Romance</td>\n",
       "      <td>6.6</td>\n",
       "    </tr>\n",
       "  </tbody>\n",
       "</table>\n",
       "</div>"
      ],
      "text/plain": [
       "                               genres  imdb_score\n",
       "2131     Game-Show|Reality-TV|Romance         2.9\n",
       "2356  Comedy|Drama|Reality-TV|Romance         6.6"
      ]
     },
     "execution_count": 14,
     "metadata": {},
     "output_type": "execute_result"
    }
   ],
   "source": [
    "movie[movie['genre-RealityTV'] == 1][['genres','imdb_score']]"
   ]
  },
  {
   "cell_type": "code",
   "execution_count": 15,
   "metadata": {},
   "outputs": [
    {
     "data": {
      "text/html": [
       "<div>\n",
       "<style scoped>\n",
       "    .dataframe tbody tr th:only-of-type {\n",
       "        vertical-align: middle;\n",
       "    }\n",
       "\n",
       "    .dataframe tbody tr th {\n",
       "        vertical-align: top;\n",
       "    }\n",
       "\n",
       "    .dataframe thead th {\n",
       "        text-align: right;\n",
       "    }\n",
       "</style>\n",
       "<table border=\"1\" class=\"dataframe\">\n",
       "  <thead>\n",
       "    <tr style=\"text-align: right;\">\n",
       "      <th></th>\n",
       "      <th>genres</th>\n",
       "      <th>imdb_score</th>\n",
       "    </tr>\n",
       "  </thead>\n",
       "  <tbody>\n",
       "    <tr>\n",
       "      <th>2131</th>\n",
       "      <td>Game-Show|Reality-TV|Romance</td>\n",
       "      <td>2.9</td>\n",
       "    </tr>\n",
       "  </tbody>\n",
       "</table>\n",
       "</div>"
      ],
      "text/plain": [
       "                            genres  imdb_score\n",
       "2131  Game-Show|Reality-TV|Romance         2.9"
      ]
     },
     "execution_count": 15,
     "metadata": {},
     "output_type": "execute_result"
    }
   ],
   "source": [
    "movie[movie['genre-GameShow'] == 1][['genres','imdb_score']]"
   ]
  },
  {
   "cell_type": "code",
   "execution_count": 16,
   "metadata": {},
   "outputs": [
    {
     "data": {
      "text/plain": [
       "Index(['index', 'color', 'director_name', 'num_critic_for_reviews', 'duration',\n",
       "       'director_facebook_likes', 'actor_3_facebook_likes', 'actor_2_name',\n",
       "       'actor_1_facebook_likes', 'gross', 'actor_1_name', 'movie_title',\n",
       "       'num_voted_users', 'cast_total_facebook_likes', 'actor_3_name',\n",
       "       'facenumber_in_poster', 'plot_keywords', 'movie_imdb_link',\n",
       "       'num_user_for_reviews', 'language', 'country', 'content_rating',\n",
       "       'budget', 'title_year', 'actor_2_facebook_likes', 'imdb_score',\n",
       "       'aspect_ratio', 'movie_facebook_likes'],\n",
       "      dtype='object')"
      ]
     },
     "execution_count": 16,
     "metadata": {},
     "output_type": "execute_result"
    }
   ],
   "source": [
    "# Only single instance of game show and 2 instances of reality tv doesn't signify anything.\n",
    "# In conclusion we can drop the genres column.\n",
    "movie.drop(columns=['genres', 'genre-GameShow', 'genre-RealityTV'], inplace = True)\n",
    "movie.columns"
   ]
  },
  {
   "cell_type": "markdown",
   "metadata": {},
   "source": [
    "#### ASPECT RATIO"
   ]
  },
  {
   "cell_type": "code",
   "execution_count": 17,
   "metadata": {},
   "outputs": [
    {
     "data": {
      "text/plain": [
       "array([ 1.78,  2.35,   nan,  1.85,  2.  ,  2.2 ,  2.39,  2.24,  1.33,\n",
       "        4.  ,  1.66,  1.5 , 16.  ,  1.77,  2.4 ,  1.37,  2.76,  1.18,\n",
       "        1.44,  2.55,  1.2 ,  1.75,  1.89])"
      ]
     },
     "execution_count": 17,
     "metadata": {},
     "output_type": "execute_result"
    }
   ],
   "source": [
    "movie['aspect_ratio'].unique()"
   ]
  },
  {
   "cell_type": "code",
   "execution_count": 18,
   "metadata": {},
   "outputs": [
    {
     "data": {
      "image/png": "[encoded data removed]",
      "text/plain": [
       "<Figure size 432x288 with 1 Axes>"
      ]
     },
     "metadata": {
      "needs_background": "light"
     },
     "output_type": "display_data"
    }
   ],
   "source": [
    "x = [str(i) for i in list(movie['aspect_ratio'].unique())]\n",
    "y=[]\n",
    "for asp in movie['aspect_ratio'].unique():\n",
    "    y.append(movie[movie['aspect_ratio']==asp]['imdb_score'].mean())\n",
    "plt.bar(x,y)\n",
    "plt.xticks(rotation=90)\n",
    "plt.show()"
   ]
  },
  {
   "cell_type": "code",
   "execution_count": 19,
   "metadata": {},
   "outputs": [
    {
     "data": {
      "text/plain": [
       "(4998, 25)"
      ]
     },
     "execution_count": 19,
     "metadata": {},
     "output_type": "execute_result"
    }
   ],
   "source": [
    "#Aspect ratio dont have much impact on the imdb score\n",
    "#we can remove them as well as the imdb link and index\n",
    "movie.drop(columns=['aspect_ratio', 'movie_imdb_link', 'index'], inplace = True)\n",
    "movie.shape"
   ]
  },
  {
   "cell_type": "markdown",
   "metadata": {},
   "source": [
    "#### COLOR"
   ]
  },
  {
   "cell_type": "code",
   "execution_count": 20,
   "metadata": {},
   "outputs": [
    {
     "data": {
      "image/png": "[encoded data removed]",
      "text/plain": [
       "<Figure size 432x288 with 1 Axes>"
      ]
     },
     "metadata": {
      "needs_background": "light"
     },
     "output_type": "display_data"
    }
   ],
   "source": [
    "x = [str(i) for i in list(movie['color'].unique())]\n",
    "y=[]\n",
    "for col in movie['color'].unique():\n",
    "    y.append(movie[movie['color']==col]['imdb_score'].mean())\n",
    "plt.bar(x,y)\n",
    "plt.xticks(rotation=90)\n",
    "plt.show()"
   ]
  },
  {
   "cell_type": "code",
   "execution_count": 21,
   "metadata": {},
   "outputs": [
    {
     "data": {
      "text/plain": [
       "Color               4772\n",
       " Black and White     207\n",
       "Name: color, dtype: int64"
      ]
     },
     "execution_count": 21,
     "metadata": {},
     "output_type": "execute_result"
    }
   ],
   "source": [
    "movie['color'].value_counts()"
   ]
  },
  {
   "cell_type": "code",
   "execution_count": 22,
   "metadata": {},
   "outputs": [
    {
     "data": {
      "text/plain": [
       "Index(['director_name', 'num_critic_for_reviews', 'duration',\n",
       "       'director_facebook_likes', 'actor_3_facebook_likes', 'actor_2_name',\n",
       "       'actor_1_facebook_likes', 'gross', 'actor_1_name', 'movie_title',\n",
       "       'num_voted_users', 'cast_total_facebook_likes', 'actor_3_name',\n",
       "       'facenumber_in_poster', 'plot_keywords', 'num_user_for_reviews',\n",
       "       'language', 'country', 'content_rating', 'budget', 'title_year',\n",
       "       'actor_2_facebook_likes', 'imdb_score', 'movie_facebook_likes'],\n",
       "      dtype='object')"
      ]
     },
     "execution_count": 22,
     "metadata": {},
     "output_type": "execute_result"
    }
   ],
   "source": [
    "# A huge proportion of movies are colored and with not much difference in avg. imdb score\n",
    "# we can drop color column\n",
    "movie.drop(columns=['color'], inplace = True)\n",
    "movie.columns"
   ]
  },
  {
   "cell_type": "markdown",
   "metadata": {},
   "source": [
    "#### LANGUAGE\n"
   ]
  },
  {
   "cell_type": "code",
   "execution_count": 23,
   "metadata": {},
   "outputs": [],
   "source": [
    "lang = movie['language'].value_counts()"
   ]
  },
  {
   "cell_type": "code",
   "execution_count": 24,
   "metadata": {},
   "outputs": [
    {
     "data": {
      "image/png": "[encoded data removed]",
      "text/plain": [
       "<Figure size 432x288 with 1 Axes>"
      ]
     },
     "metadata": {
      "needs_background": "light"
     },
     "output_type": "display_data"
    }
   ],
   "source": [
    "plt.bar(list(lang.index),lang.to_list())\n",
    "plt.xticks(rotation=90)\n",
    "plt.show()"
   ]
  },
  {
   "cell_type": "code",
   "execution_count": 25,
   "metadata": {},
   "outputs": [
    {
     "data": {
      "text/plain": [
       "Index(['director_name', 'num_critic_for_reviews', 'duration',\n",
       "       'director_facebook_likes', 'actor_3_facebook_likes', 'actor_2_name',\n",
       "       'actor_1_facebook_likes', 'gross', 'actor_1_name', 'movie_title',\n",
       "       'num_voted_users', 'cast_total_facebook_likes', 'actor_3_name',\n",
       "       'facenumber_in_poster', 'plot_keywords', 'num_user_for_reviews',\n",
       "       'country', 'content_rating', 'budget', 'title_year',\n",
       "       'actor_2_facebook_likes', 'imdb_score', 'movie_facebook_likes'],\n",
       "      dtype='object')"
      ]
     },
     "execution_count": 25,
     "metadata": {},
     "output_type": "execute_result"
    }
   ],
   "source": [
    "# We can remove language as english is dominating with >95% data\n",
    "movie.drop(columns=['language'], inplace = True)\n",
    "movie.columns"
   ]
  },
  {
   "cell_type": "markdown",
   "metadata": {},
   "source": [
    "#### COUNTRY"
   ]
  },
  {
   "cell_type": "code",
   "execution_count": 26,
   "metadata": {},
   "outputs": [],
   "source": [
    "country = movie['country'].value_counts()"
   ]
  },
  {
   "cell_type": "code",
   "execution_count": 27,
   "metadata": {},
   "outputs": [
    {
     "data": {
      "image/png": "[encoded data removed]",
      "text/plain": [
       "<Figure size 432x288 with 1 Axes>"
      ]
     },
     "metadata": {
      "needs_background": "light"
     },
     "output_type": "display_data"
    }
   ],
   "source": [
    "plt.bar(list(country.index),country.to_list())\n",
    "plt.xticks(rotation=90)\n",
    "plt.show()"
   ]
  },
  {
   "cell_type": "code",
   "execution_count": 28,
   "metadata": {},
   "outputs": [],
   "source": [
    "country=country/country.sum()"
   ]
  },
  {
   "cell_type": "code",
   "execution_count": 29,
   "metadata": {},
   "outputs": [
    {
     "data": {
      "text/plain": [
       "USA          0.755658\n",
       "UK           0.088724\n",
       "France       0.030843\n",
       "Canada       0.024835\n",
       "Germany      0.019227\n",
       "Australia    0.011015\n",
       "India        0.006810\n",
       "Spain        0.006609\n",
       "China        0.005608\n",
       "Italy        0.004606\n",
       "Name: country, dtype: float64"
      ]
     },
     "execution_count": 29,
     "metadata": {},
     "output_type": "execute_result"
    }
   ],
   "source": [
    "country.head(10)"
   ]
  },
  {
   "cell_type": "code",
   "execution_count": 30,
   "metadata": {},
   "outputs": [
    {
     "data": {
      "text/plain": [
       "USA       3773\n",
       "Others     782\n",
       "UK         443\n",
       "Name: country, dtype: int64"
      ]
     },
     "execution_count": 30,
     "metadata": {},
     "output_type": "execute_result"
    }
   ],
   "source": [
    "# USA and UK covers most of the proportion.\n",
    "# we can substitute all others to 'Others' category.\n",
    "movie.loc[~movie['country'].isin(['USA', 'UK']), 'country']='Others'\n",
    "movie['country'].value_counts()"
   ]
  },
  {
   "cell_type": "code",
   "execution_count": 31,
   "metadata": {},
   "outputs": [
    {
     "data": {
      "text/html": [
       "<div>\n",
       "<style scoped>\n",
       "    .dataframe tbody tr th:only-of-type {\n",
       "        vertical-align: middle;\n",
       "    }\n",
       "\n",
       "    .dataframe tbody tr th {\n",
       "        vertical-align: top;\n",
       "    }\n",
       "\n",
       "    .dataframe thead th {\n",
       "        text-align: right;\n",
       "    }\n",
       "</style>\n",
       "<table border=\"1\" class=\"dataframe\">\n",
       "  <thead>\n",
       "    <tr style=\"text-align: right;\">\n",
       "      <th></th>\n",
       "      <th>correlation</th>\n",
       "      <th>country</th>\n",
       "    </tr>\n",
       "  </thead>\n",
       "  <tbody>\n",
       "    <tr>\n",
       "      <th>0</th>\n",
       "      <td>0.102973</td>\n",
       "      <td>country_UK</td>\n",
       "    </tr>\n",
       "    <tr>\n",
       "      <th>1</th>\n",
       "      <td>0.055071</td>\n",
       "      <td>country_Others</td>\n",
       "    </tr>\n",
       "    <tr>\n",
       "      <th>2</th>\n",
       "      <td>-0.114551</td>\n",
       "      <td>country_USA</td>\n",
       "    </tr>\n",
       "  </tbody>\n",
       "</table>\n",
       "</div>"
      ],
      "text/plain": [
       "   correlation         country\n",
       "0     0.102973      country_UK\n",
       "1     0.055071  country_Others\n",
       "2    -0.114551     country_USA"
      ]
     },
     "execution_count": 31,
     "metadata": {},
     "output_type": "execute_result"
    }
   ],
   "source": [
    "movie=pd.concat([movie, pd.get_dummies(movie['country'], prefix='country')],axis=1)\n",
    "movie.drop(columns=['country'],inplace=True)\n",
    "country_df = pd.DataFrame()\n",
    "for col in movie.columns:\n",
    "    if col.startswith('country_'):\n",
    "        country_df = country_df.append({'country':col, 'correlation':movie.corr()['imdb_score'][col]}, ignore_index=True)\n",
    "country_df = country_df.sort_values(['correlation'], ascending = (False),ignore_index=True)\n",
    "country_df"
   ]
  },
  {
   "cell_type": "markdown",
   "metadata": {},
   "source": [
    "#### DIRECTORS"
   ]
  },
  {
   "cell_type": "code",
   "execution_count": 32,
   "metadata": {},
   "outputs": [
    {
     "data": {
      "text/plain": [
       "2399"
      ]
     },
     "execution_count": 32,
     "metadata": {},
     "output_type": "execute_result"
    }
   ],
   "source": [
    "len(movie['director_name'].unique())"
   ]
  },
  {
   "cell_type": "code",
   "execution_count": 33,
   "metadata": {},
   "outputs": [
    {
     "data": {
      "text/plain": [
       "Steven Spielberg    26\n",
       "Woody Allen         22\n",
       "Martin Scorsese     20\n",
       "Clint Eastwood      20\n",
       "Ridley Scott        17\n",
       "                    ..\n",
       "Mike Nichols         6\n",
       "Roman Polanski       6\n",
       "Mark Waters          6\n",
       "Sidney Lumet         6\n",
       "Stephen Hopkins      6\n",
       "Name: director_name, Length: 145, dtype: int64"
      ]
     },
     "execution_count": 33,
     "metadata": {},
     "output_type": "execute_result"
    }
   ],
   "source": [
    "director_career = movie['director_name'].value_counts()\n",
    "director_career[director_career>5]"
   ]
  },
  {
   "cell_type": "code",
   "execution_count": 34,
   "metadata": {},
   "outputs": [
    {
     "data": {
      "text/plain": [
       "['Steven Spielberg',\n",
       " 'Woody Allen',\n",
       " 'Martin Scorsese',\n",
       " 'Clint Eastwood',\n",
       " 'Ridley Scott',\n",
       " 'Steven Soderbergh',\n",
       " 'Spike Lee',\n",
       " 'Tim Burton',\n",
       " 'Renny Harlin',\n",
       " 'Oliver Stone',\n",
       " 'Joel Schumacher',\n",
       " 'Robert Zemeckis',\n",
       " 'Robert Rodriguez',\n",
       " 'Sam Raimi',\n",
       " 'Barry Levinson',\n",
       " 'Ron Howard',\n",
       " 'Michael Bay',\n",
       " 'Kevin Smith',\n",
       " 'Peter Jackson',\n",
       " 'Brian De Palma',\n",
       " 'Tony Scott',\n",
       " 'Richard Donner',\n",
       " 'John Carpenter',\n",
       " 'Richard Linklater',\n",
       " 'Shawn Levy',\n",
       " 'Francis Ford Coppola',\n",
       " 'Wes Craven',\n",
       " 'Rob Reiner',\n",
       " 'Chris Columbus']"
      ]
     },
     "execution_count": 34,
     "metadata": {},
     "output_type": "execute_result"
    }
   ],
   "source": [
    "relevant_director = list(director_career[director_career>10].index)\n",
    "relevant_director"
   ]
  },
  {
   "cell_type": "code",
   "execution_count": 35,
   "metadata": {},
   "outputs": [
    {
     "data": {
      "image/png": "[encoded data removed]",
      "text/plain": [
       "<Figure size 432x288 with 1 Axes>"
      ]
     },
     "metadata": {
      "needs_background": "light"
     },
     "output_type": "display_data"
    }
   ],
   "source": [
    "# Plotting mean imdb score\n",
    "x = relevant_director\n",
    "y=[]\n",
    "for director in x:\n",
    "    y.append(movie[movie['director_name']==director]['imdb_score'].mean())\n",
    "plt.bar(x,y)\n",
    "plt.xticks(rotation=90)\n",
    "plt.show()"
   ]
  },
  {
   "cell_type": "code",
   "execution_count": 36,
   "metadata": {},
   "outputs": [
    {
     "data": {
      "text/plain": [
       "['Sam Raimi', 'Michael Bay']"
      ]
     },
     "execution_count": 36,
     "metadata": {},
     "output_type": "execute_result"
    }
   ],
   "source": [
    "consistent_director = []\n",
    "for director in relevant_director:\n",
    "    scores = movie[movie['director_name']==director]['imdb_score'].to_list()\n",
    "    consistent = True\n",
    "    thresh = 1\n",
    "    for score in scores:\n",
    "        if score < sum(scores)/len(scores)-thresh or score > sum(scores)/len(scores)+thresh:\n",
    "            consistent = False\n",
    "    if consistent:\n",
    "        consistent_director.append(director)\n",
    "consistent_director"
   ]
  },
  {
   "cell_type": "code",
   "execution_count": 37,
   "metadata": {
    "scrolled": true
   },
   "outputs": [
    {
     "name": "stderr",
     "output_type": "stream",
     "text": [
      "100%|██████████████████████████████████████████████████████████████████████████████| 2399/2399 [00:44<00:00, 54.33it/s]\n"
     ]
    },
    {
     "data": {
      "text/html": [
       "<div>\n",
       "<style scoped>\n",
       "    .dataframe tbody tr th:only-of-type {\n",
       "        vertical-align: middle;\n",
       "    }\n",
       "\n",
       "    .dataframe tbody tr th {\n",
       "        vertical-align: top;\n",
       "    }\n",
       "\n",
       "    .dataframe thead th {\n",
       "        text-align: right;\n",
       "    }\n",
       "</style>\n",
       "<table border=\"1\" class=\"dataframe\">\n",
       "  <thead>\n",
       "    <tr style=\"text-align: right;\">\n",
       "      <th></th>\n",
       "      <th>director_name</th>\n",
       "      <th>num_critic_for_reviews</th>\n",
       "      <th>duration</th>\n",
       "      <th>director_facebook_likes</th>\n",
       "      <th>actor_3_facebook_likes</th>\n",
       "      <th>actor_2_name</th>\n",
       "      <th>actor_1_facebook_likes</th>\n",
       "      <th>gross</th>\n",
       "      <th>actor_1_name</th>\n",
       "      <th>movie_title</th>\n",
       "      <th>...</th>\n",
       "      <th>director_name_Ron Howard</th>\n",
       "      <th>director_name_Sam Raimi</th>\n",
       "      <th>director_name_Shawn Levy</th>\n",
       "      <th>director_name_Spike Lee</th>\n",
       "      <th>director_name_Steven Soderbergh</th>\n",
       "      <th>director_name_Steven Spielberg</th>\n",
       "      <th>director_name_Tim Burton</th>\n",
       "      <th>director_name_Tony Scott</th>\n",
       "      <th>director_name_Wes Craven</th>\n",
       "      <th>director_name_Woody Allen</th>\n",
       "    </tr>\n",
       "  </thead>\n",
       "  <tbody>\n",
       "    <tr>\n",
       "      <th>0</th>\n",
       "      <td>James Cameron</td>\n",
       "      <td>723.0</td>\n",
       "      <td>178.0</td>\n",
       "      <td>0.0</td>\n",
       "      <td>855.0</td>\n",
       "      <td>Joel David Moore</td>\n",
       "      <td>1000.0</td>\n",
       "      <td>760505847.0</td>\n",
       "      <td>CCH Pounder</td>\n",
       "      <td>Avatar</td>\n",
       "      <td>...</td>\n",
       "      <td>0</td>\n",
       "      <td>0</td>\n",
       "      <td>0</td>\n",
       "      <td>0</td>\n",
       "      <td>0</td>\n",
       "      <td>0</td>\n",
       "      <td>0</td>\n",
       "      <td>0</td>\n",
       "      <td>0</td>\n",
       "      <td>0</td>\n",
       "    </tr>\n",
       "    <tr>\n",
       "      <th>1</th>\n",
       "      <td>Gore Verbinski</td>\n",
       "      <td>302.0</td>\n",
       "      <td>169.0</td>\n",
       "      <td>563.0</td>\n",
       "      <td>1000.0</td>\n",
       "      <td>Orlando Bloom</td>\n",
       "      <td>40000.0</td>\n",
       "      <td>309404152.0</td>\n",
       "      <td>Johnny Depp</td>\n",
       "      <td>Pirates of the Caribbean: At World's End</td>\n",
       "      <td>...</td>\n",
       "      <td>0</td>\n",
       "      <td>0</td>\n",
       "      <td>0</td>\n",
       "      <td>0</td>\n",
       "      <td>0</td>\n",
       "      <td>0</td>\n",
       "      <td>0</td>\n",
       "      <td>0</td>\n",
       "      <td>0</td>\n",
       "      <td>0</td>\n",
       "    </tr>\n",
       "    <tr>\n",
       "      <th>2</th>\n",
       "      <td>Sam Mendes</td>\n",
       "      <td>602.0</td>\n",
       "      <td>148.0</td>\n",
       "      <td>0.0</td>\n",
       "      <td>161.0</td>\n",
       "      <td>Rory Kinnear</td>\n",
       "      <td>11000.0</td>\n",
       "      <td>200074175.0</td>\n",
       "      <td>Christoph Waltz</td>\n",
       "      <td>Spectre</td>\n",
       "      <td>...</td>\n",
       "      <td>0</td>\n",
       "      <td>0</td>\n",
       "      <td>0</td>\n",
       "      <td>0</td>\n",
       "      <td>0</td>\n",
       "      <td>0</td>\n",
       "      <td>0</td>\n",
       "      <td>0</td>\n",
       "      <td>0</td>\n",
       "      <td>0</td>\n",
       "    </tr>\n",
       "    <tr>\n",
       "      <th>3</th>\n",
       "      <td>Christopher Nolan</td>\n",
       "      <td>813.0</td>\n",
       "      <td>164.0</td>\n",
       "      <td>22000.0</td>\n",
       "      <td>23000.0</td>\n",
       "      <td>Christian Bale</td>\n",
       "      <td>27000.0</td>\n",
       "      <td>448130642.0</td>\n",
       "      <td>Tom Hardy</td>\n",
       "      <td>The Dark Knight Rises</td>\n",
       "      <td>...</td>\n",
       "      <td>0</td>\n",
       "      <td>0</td>\n",
       "      <td>0</td>\n",
       "      <td>0</td>\n",
       "      <td>0</td>\n",
       "      <td>0</td>\n",
       "      <td>0</td>\n",
       "      <td>0</td>\n",
       "      <td>0</td>\n",
       "      <td>0</td>\n",
       "    </tr>\n",
       "    <tr>\n",
       "      <th>4</th>\n",
       "      <td>Doug Walker</td>\n",
       "      <td>NaN</td>\n",
       "      <td>NaN</td>\n",
       "      <td>131.0</td>\n",
       "      <td>NaN</td>\n",
       "      <td>Rob Walker</td>\n",
       "      <td>131.0</td>\n",
       "      <td>NaN</td>\n",
       "      <td>Doug Walker</td>\n",
       "      <td>Star Wars: Episode VII - The Force Awakens</td>\n",
       "      <td>...</td>\n",
       "      <td>0</td>\n",
       "      <td>0</td>\n",
       "      <td>0</td>\n",
       "      <td>0</td>\n",
       "      <td>0</td>\n",
       "      <td>0</td>\n",
       "      <td>0</td>\n",
       "      <td>0</td>\n",
       "      <td>0</td>\n",
       "      <td>0</td>\n",
       "    </tr>\n",
       "  </tbody>\n",
       "</table>\n",
       "<p>5 rows × 54 columns</p>\n",
       "</div>"
      ],
      "text/plain": [
       "       director_name  num_critic_for_reviews  duration  \\\n",
       "0      James Cameron                   723.0     178.0   \n",
       "1     Gore Verbinski                   302.0     169.0   \n",
       "2         Sam Mendes                   602.0     148.0   \n",
       "3  Christopher Nolan                   813.0     164.0   \n",
       "4        Doug Walker                     NaN       NaN   \n",
       "\n",
       "   director_facebook_likes  actor_3_facebook_likes      actor_2_name  \\\n",
       "0                      0.0                   855.0  Joel David Moore   \n",
       "1                    563.0                  1000.0     Orlando Bloom   \n",
       "2                      0.0                   161.0      Rory Kinnear   \n",
       "3                  22000.0                 23000.0    Christian Bale   \n",
       "4                    131.0                     NaN        Rob Walker   \n",
       "\n",
       "   actor_1_facebook_likes        gross     actor_1_name  \\\n",
       "0                  1000.0  760505847.0      CCH Pounder   \n",
       "1                 40000.0  309404152.0      Johnny Depp   \n",
       "2                 11000.0  200074175.0  Christoph Waltz   \n",
       "3                 27000.0  448130642.0        Tom Hardy   \n",
       "4                   131.0          NaN      Doug Walker   \n",
       "\n",
       "                                  movie_title  ...  director_name_Ron Howard  \\\n",
       "0                                      Avatar  ...                         0   \n",
       "1    Pirates of the Caribbean: At World's End  ...                         0   \n",
       "2                                     Spectre  ...                         0   \n",
       "3                       The Dark Knight Rises  ...                         0   \n",
       "4  Star Wars: Episode VII - The Force Awakens  ...                         0   \n",
       "\n",
       "   director_name_Sam Raimi director_name_Shawn Levy  director_name_Spike Lee  \\\n",
       "0                        0                        0                        0   \n",
       "1                        0                        0                        0   \n",
       "2                        0                        0                        0   \n",
       "3                        0                        0                        0   \n",
       "4                        0                        0                        0   \n",
       "\n",
       "  director_name_Steven Soderbergh  director_name_Steven Spielberg  \\\n",
       "0                               0                               0   \n",
       "1                               0                               0   \n",
       "2                               0                               0   \n",
       "3                               0                               0   \n",
       "4                               0                               0   \n",
       "\n",
       "  director_name_Tim Burton  director_name_Tony Scott  \\\n",
       "0                        0                         0   \n",
       "1                        0                         0   \n",
       "2                        0                         0   \n",
       "3                        0                         0   \n",
       "4                        0                         0   \n",
       "\n",
       "   director_name_Wes Craven  director_name_Woody Allen  \n",
       "0                         0                          0  \n",
       "1                         0                          0  \n",
       "2                         0                          0  \n",
       "3                         0                          0  \n",
       "4                         0                          0  \n",
       "\n",
       "[5 rows x 54 columns]"
      ]
     },
     "execution_count": 37,
     "metadata": {},
     "output_type": "execute_result"
    }
   ],
   "source": [
    "movie=pd.concat([movie, pd.get_dummies(movie['director_name'], prefix='director_name', dummy_na=True)],axis=1)\n",
    "for director in tqdm(list(movie['director_name'].unique())):\n",
    "    if director not in relevant_director:\n",
    "        movie.drop(columns=['director_name_'+str(director)], inplace = True)\n",
    "movie.head()"
   ]
  },
  {
   "cell_type": "code",
   "execution_count": 38,
   "metadata": {},
   "outputs": [],
   "source": [
    "director_df = pd.DataFrame()\n",
    "for col in movie.columns:\n",
    "    if col.startswith('director_name_'):\n",
    "        director_df = director_df.append({'directors':col, 'correlation':movie.corr()['imdb_score'][col]}, ignore_index=True)"
   ]
  },
  {
   "cell_type": "code",
   "execution_count": 39,
   "metadata": {},
   "outputs": [
    {
     "data": {
      "text/html": [
       "<div>\n",
       "<style scoped>\n",
       "    .dataframe tbody tr th:only-of-type {\n",
       "        vertical-align: middle;\n",
       "    }\n",
       "\n",
       "    .dataframe tbody tr th {\n",
       "        vertical-align: top;\n",
       "    }\n",
       "\n",
       "    .dataframe thead th {\n",
       "        text-align: right;\n",
       "    }\n",
       "</style>\n",
       "<table border=\"1\" class=\"dataframe\">\n",
       "  <thead>\n",
       "    <tr style=\"text-align: right;\">\n",
       "      <th></th>\n",
       "      <th>correlation</th>\n",
       "      <th>directors</th>\n",
       "    </tr>\n",
       "  </thead>\n",
       "  <tbody>\n",
       "    <tr>\n",
       "      <th>0</th>\n",
       "      <td>0.068740</td>\n",
       "      <td>director_name_Martin Scorsese</td>\n",
       "    </tr>\n",
       "    <tr>\n",
       "      <th>1</th>\n",
       "      <td>0.066891</td>\n",
       "      <td>director_name_Steven Spielberg</td>\n",
       "    </tr>\n",
       "    <tr>\n",
       "      <th>2</th>\n",
       "      <td>0.053857</td>\n",
       "      <td>director_name_Peter Jackson</td>\n",
       "    </tr>\n",
       "    <tr>\n",
       "      <th>3</th>\n",
       "      <td>0.044209</td>\n",
       "      <td>director_name_Clint Eastwood</td>\n",
       "    </tr>\n",
       "    <tr>\n",
       "      <th>4</th>\n",
       "      <td>0.040828</td>\n",
       "      <td>director_name_Francis Ford Coppola</td>\n",
       "    </tr>\n",
       "    <tr>\n",
       "      <th>5</th>\n",
       "      <td>0.039374</td>\n",
       "      <td>director_name_Robert Zemeckis</td>\n",
       "    </tr>\n",
       "    <tr>\n",
       "      <th>6</th>\n",
       "      <td>0.037030</td>\n",
       "      <td>director_name_Richard Linklater</td>\n",
       "    </tr>\n",
       "    <tr>\n",
       "      <th>7</th>\n",
       "      <td>0.033603</td>\n",
       "      <td>director_name_Woody Allen</td>\n",
       "    </tr>\n",
       "    <tr>\n",
       "      <th>8</th>\n",
       "      <td>0.032720</td>\n",
       "      <td>director_name_Ridley Scott</td>\n",
       "    </tr>\n",
       "    <tr>\n",
       "      <th>9</th>\n",
       "      <td>0.024715</td>\n",
       "      <td>director_name_Tim Burton</td>\n",
       "    </tr>\n",
       "    <tr>\n",
       "      <th>10</th>\n",
       "      <td>0.024115</td>\n",
       "      <td>director_name_Rob Reiner</td>\n",
       "    </tr>\n",
       "    <tr>\n",
       "      <th>11</th>\n",
       "      <td>0.023998</td>\n",
       "      <td>director_name_Oliver Stone</td>\n",
       "    </tr>\n",
       "    <tr>\n",
       "      <th>12</th>\n",
       "      <td>0.022249</td>\n",
       "      <td>director_name_Ron Howard</td>\n",
       "    </tr>\n",
       "    <tr>\n",
       "      <th>13</th>\n",
       "      <td>0.021201</td>\n",
       "      <td>director_name_Sam Raimi</td>\n",
       "    </tr>\n",
       "    <tr>\n",
       "      <th>14</th>\n",
       "      <td>0.017122</td>\n",
       "      <td>director_name_John Carpenter</td>\n",
       "    </tr>\n",
       "    <tr>\n",
       "      <th>15</th>\n",
       "      <td>0.016758</td>\n",
       "      <td>director_name_Richard Donner</td>\n",
       "    </tr>\n",
       "    <tr>\n",
       "      <th>16</th>\n",
       "      <td>0.015303</td>\n",
       "      <td>director_name_Tony Scott</td>\n",
       "    </tr>\n",
       "    <tr>\n",
       "      <th>17</th>\n",
       "      <td>0.013371</td>\n",
       "      <td>director_name_Steven Soderbergh</td>\n",
       "    </tr>\n",
       "    <tr>\n",
       "      <th>18</th>\n",
       "      <td>0.010575</td>\n",
       "      <td>director_name_Brian De Palma</td>\n",
       "    </tr>\n",
       "    <tr>\n",
       "      <th>19</th>\n",
       "      <td>0.008969</td>\n",
       "      <td>director_name_Michael Bay</td>\n",
       "    </tr>\n",
       "    <tr>\n",
       "      <th>20</th>\n",
       "      <td>0.008920</td>\n",
       "      <td>director_name_Chris Columbus</td>\n",
       "    </tr>\n",
       "    <tr>\n",
       "      <th>21</th>\n",
       "      <td>0.006438</td>\n",
       "      <td>director_name_Spike Lee</td>\n",
       "    </tr>\n",
       "    <tr>\n",
       "      <th>22</th>\n",
       "      <td>0.006173</td>\n",
       "      <td>director_name_Barry Levinson</td>\n",
       "    </tr>\n",
       "    <tr>\n",
       "      <th>23</th>\n",
       "      <td>0.005482</td>\n",
       "      <td>director_name_Kevin Smith</td>\n",
       "    </tr>\n",
       "    <tr>\n",
       "      <th>24</th>\n",
       "      <td>-0.001516</td>\n",
       "      <td>director_name_Joel Schumacher</td>\n",
       "    </tr>\n",
       "    <tr>\n",
       "      <th>25</th>\n",
       "      <td>-0.013871</td>\n",
       "      <td>director_name_Wes Craven</td>\n",
       "    </tr>\n",
       "    <tr>\n",
       "      <th>26</th>\n",
       "      <td>-0.014631</td>\n",
       "      <td>director_name_Shawn Levy</td>\n",
       "    </tr>\n",
       "    <tr>\n",
       "      <th>27</th>\n",
       "      <td>-0.033895</td>\n",
       "      <td>director_name_Renny Harlin</td>\n",
       "    </tr>\n",
       "    <tr>\n",
       "      <th>28</th>\n",
       "      <td>-0.034018</td>\n",
       "      <td>director_name_Robert Rodriguez</td>\n",
       "    </tr>\n",
       "  </tbody>\n",
       "</table>\n",
       "</div>"
      ],
      "text/plain": [
       "    correlation                           directors\n",
       "0      0.068740       director_name_Martin Scorsese\n",
       "1      0.066891      director_name_Steven Spielberg\n",
       "2      0.053857         director_name_Peter Jackson\n",
       "3      0.044209        director_name_Clint Eastwood\n",
       "4      0.040828  director_name_Francis Ford Coppola\n",
       "5      0.039374       director_name_Robert Zemeckis\n",
       "6      0.037030     director_name_Richard Linklater\n",
       "7      0.033603           director_name_Woody Allen\n",
       "8      0.032720          director_name_Ridley Scott\n",
       "9      0.024715            director_name_Tim Burton\n",
       "10     0.024115            director_name_Rob Reiner\n",
       "11     0.023998          director_name_Oliver Stone\n",
       "12     0.022249            director_name_Ron Howard\n",
       "13     0.021201             director_name_Sam Raimi\n",
       "14     0.017122        director_name_John Carpenter\n",
       "15     0.016758        director_name_Richard Donner\n",
       "16     0.015303            director_name_Tony Scott\n",
       "17     0.013371     director_name_Steven Soderbergh\n",
       "18     0.010575        director_name_Brian De Palma\n",
       "19     0.008969           director_name_Michael Bay\n",
       "20     0.008920        director_name_Chris Columbus\n",
       "21     0.006438             director_name_Spike Lee\n",
       "22     0.006173        director_name_Barry Levinson\n",
       "23     0.005482           director_name_Kevin Smith\n",
       "24    -0.001516       director_name_Joel Schumacher\n",
       "25    -0.013871            director_name_Wes Craven\n",
       "26    -0.014631            director_name_Shawn Levy\n",
       "27    -0.033895          director_name_Renny Harlin\n",
       "28    -0.034018      director_name_Robert Rodriguez"
      ]
     },
     "execution_count": 39,
     "metadata": {},
     "output_type": "execute_result"
    }
   ],
   "source": [
    "director_df = director_df.sort_values(['correlation'], ascending = (False),ignore_index=True)\n",
    "director_df"
   ]
  },
  {
   "cell_type": "code",
   "execution_count": 40,
   "metadata": {},
   "outputs": [
    {
     "data": {
      "text/plain": [
       "Index(['num_critic_for_reviews', 'duration', 'director_facebook_likes',\n",
       "       'actor_3_facebook_likes', 'actor_2_name', 'actor_1_facebook_likes',\n",
       "       'gross', 'actor_1_name', 'movie_title', 'num_voted_users',\n",
       "       'cast_total_facebook_likes', 'actor_3_name', 'facenumber_in_poster',\n",
       "       'plot_keywords', 'num_user_for_reviews', 'content_rating', 'budget',\n",
       "       'title_year', 'actor_2_facebook_likes', 'imdb_score',\n",
       "       'movie_facebook_likes', 'country_Others', 'country_UK', 'country_USA',\n",
       "       'director_name_Martin Scorsese', 'director_name_Peter Jackson',\n",
       "       'director_name_Steven Spielberg'],\n",
       "      dtype='object')"
      ]
     },
     "execution_count": 40,
     "metadata": {},
     "output_type": "execute_result"
    }
   ],
   "source": [
    "# We can keep directors with correlation > 5% and remove the rest\n",
    "keep_directors = ['director_name_Martin Scorsese', 'director_name_Steven Spielberg', 'director_name_Peter Jackson']\n",
    "for col in movie.columns:\n",
    "    if col.startswith('director_name'):\n",
    "        if col not in keep_directors:\n",
    "            movie.drop(columns=[col], inplace = True)\n",
    "movie.columns"
   ]
  },
  {
   "cell_type": "markdown",
   "metadata": {},
   "source": [
    "#### ACTORS\n"
   ]
  },
  {
   "cell_type": "code",
   "execution_count": 41,
   "metadata": {},
   "outputs": [
    {
     "name": "stdout",
     "output_type": "stream",
     "text": [
      "2098\n",
      "3033\n",
      "3522\n"
     ]
    }
   ],
   "source": [
    "print(len(movie['actor_1_name'].unique()))\n",
    "print(len(movie['actor_2_name'].unique()))\n",
    "print(len(movie['actor_3_name'].unique()))"
   ]
  },
  {
   "cell_type": "code",
   "execution_count": 42,
   "metadata": {
    "scrolled": true
   },
   "outputs": [
    {
     "data": {
      "text/plain": [
       "['Robert De Niro',\n",
       " 'Johnny Depp',\n",
       " 'Nicolas Cage',\n",
       " 'J.K. Simmons',\n",
       " 'Matt Damon',\n",
       " 'Bruce Willis',\n",
       " 'Denzel Washington',\n",
       " 'Liam Neeson',\n",
       " 'Harrison Ford',\n",
       " 'Robin Williams']"
      ]
     },
     "execution_count": 42,
     "metadata": {},
     "output_type": "execute_result"
    }
   ],
   "source": [
    "actor1_career = movie['actor_1_name'].value_counts()\n",
    "relevant_actor1 = list(actor1_career[actor1_career>10].index)\n",
    "relevant_actor1[:10]"
   ]
  },
  {
   "cell_type": "code",
   "execution_count": 43,
   "metadata": {},
   "outputs": [
    {
     "name": "stderr",
     "output_type": "stream",
     "text": [
      "100%|██████████████████████████████████████████████████████████████████████████████| 2098/2098 [00:34<00:00, 60.90it/s]\n"
     ]
    },
    {
     "data": {
      "text/html": [
       "<div>\n",
       "<style scoped>\n",
       "    .dataframe tbody tr th:only-of-type {\n",
       "        vertical-align: middle;\n",
       "    }\n",
       "\n",
       "    .dataframe tbody tr th {\n",
       "        vertical-align: top;\n",
       "    }\n",
       "\n",
       "    .dataframe thead th {\n",
       "        text-align: right;\n",
       "    }\n",
       "</style>\n",
       "<table border=\"1\" class=\"dataframe\">\n",
       "  <thead>\n",
       "    <tr style=\"text-align: right;\">\n",
       "      <th></th>\n",
       "      <th>num_critic_for_reviews</th>\n",
       "      <th>duration</th>\n",
       "      <th>director_facebook_likes</th>\n",
       "      <th>actor_3_facebook_likes</th>\n",
       "      <th>actor_2_name</th>\n",
       "      <th>actor_1_facebook_likes</th>\n",
       "      <th>gross</th>\n",
       "      <th>actor_1_name</th>\n",
       "      <th>movie_title</th>\n",
       "      <th>num_voted_users</th>\n",
       "      <th>...</th>\n",
       "      <th>actor_1_name_Steve Buscemi</th>\n",
       "      <th>actor_1_name_Sylvester Stallone</th>\n",
       "      <th>actor_1_name_Tom Cruise</th>\n",
       "      <th>actor_1_name_Tom Hanks</th>\n",
       "      <th>actor_1_name_Tom Hardy</th>\n",
       "      <th>actor_1_name_Tom Wilkinson</th>\n",
       "      <th>actor_1_name_Viggo Mortensen</th>\n",
       "      <th>actor_1_name_Vin Diesel</th>\n",
       "      <th>actor_1_name_Will Ferrell</th>\n",
       "      <th>actor_1_name_Will Smith</th>\n",
       "    </tr>\n",
       "  </thead>\n",
       "  <tbody>\n",
       "    <tr>\n",
       "      <th>0</th>\n",
       "      <td>723.0</td>\n",
       "      <td>178.0</td>\n",
       "      <td>0.0</td>\n",
       "      <td>855.0</td>\n",
       "      <td>Joel David Moore</td>\n",
       "      <td>1000.0</td>\n",
       "      <td>760505847.0</td>\n",
       "      <td>CCH Pounder</td>\n",
       "      <td>Avatar</td>\n",
       "      <td>886204</td>\n",
       "      <td>...</td>\n",
       "      <td>0</td>\n",
       "      <td>0</td>\n",
       "      <td>0</td>\n",
       "      <td>0</td>\n",
       "      <td>0</td>\n",
       "      <td>0</td>\n",
       "      <td>0</td>\n",
       "      <td>0</td>\n",
       "      <td>0</td>\n",
       "      <td>0</td>\n",
       "    </tr>\n",
       "    <tr>\n",
       "      <th>1</th>\n",
       "      <td>302.0</td>\n",
       "      <td>169.0</td>\n",
       "      <td>563.0</td>\n",
       "      <td>1000.0</td>\n",
       "      <td>Orlando Bloom</td>\n",
       "      <td>40000.0</td>\n",
       "      <td>309404152.0</td>\n",
       "      <td>Johnny Depp</td>\n",
       "      <td>Pirates of the Caribbean: At World's End</td>\n",
       "      <td>471220</td>\n",
       "      <td>...</td>\n",
       "      <td>0</td>\n",
       "      <td>0</td>\n",
       "      <td>0</td>\n",
       "      <td>0</td>\n",
       "      <td>0</td>\n",
       "      <td>0</td>\n",
       "      <td>0</td>\n",
       "      <td>0</td>\n",
       "      <td>0</td>\n",
       "      <td>0</td>\n",
       "    </tr>\n",
       "    <tr>\n",
       "      <th>2</th>\n",
       "      <td>602.0</td>\n",
       "      <td>148.0</td>\n",
       "      <td>0.0</td>\n",
       "      <td>161.0</td>\n",
       "      <td>Rory Kinnear</td>\n",
       "      <td>11000.0</td>\n",
       "      <td>200074175.0</td>\n",
       "      <td>Christoph Waltz</td>\n",
       "      <td>Spectre</td>\n",
       "      <td>275868</td>\n",
       "      <td>...</td>\n",
       "      <td>0</td>\n",
       "      <td>0</td>\n",
       "      <td>0</td>\n",
       "      <td>0</td>\n",
       "      <td>0</td>\n",
       "      <td>0</td>\n",
       "      <td>0</td>\n",
       "      <td>0</td>\n",
       "      <td>0</td>\n",
       "      <td>0</td>\n",
       "    </tr>\n",
       "    <tr>\n",
       "      <th>3</th>\n",
       "      <td>813.0</td>\n",
       "      <td>164.0</td>\n",
       "      <td>22000.0</td>\n",
       "      <td>23000.0</td>\n",
       "      <td>Christian Bale</td>\n",
       "      <td>27000.0</td>\n",
       "      <td>448130642.0</td>\n",
       "      <td>Tom Hardy</td>\n",
       "      <td>The Dark Knight Rises</td>\n",
       "      <td>1144337</td>\n",
       "      <td>...</td>\n",
       "      <td>0</td>\n",
       "      <td>0</td>\n",
       "      <td>0</td>\n",
       "      <td>0</td>\n",
       "      <td>1</td>\n",
       "      <td>0</td>\n",
       "      <td>0</td>\n",
       "      <td>0</td>\n",
       "      <td>0</td>\n",
       "      <td>0</td>\n",
       "    </tr>\n",
       "    <tr>\n",
       "      <th>4</th>\n",
       "      <td>NaN</td>\n",
       "      <td>NaN</td>\n",
       "      <td>131.0</td>\n",
       "      <td>NaN</td>\n",
       "      <td>Rob Walker</td>\n",
       "      <td>131.0</td>\n",
       "      <td>NaN</td>\n",
       "      <td>Doug Walker</td>\n",
       "      <td>Star Wars: Episode VII - The Force Awakens</td>\n",
       "      <td>8</td>\n",
       "      <td>...</td>\n",
       "      <td>0</td>\n",
       "      <td>0</td>\n",
       "      <td>0</td>\n",
       "      <td>0</td>\n",
       "      <td>0</td>\n",
       "      <td>0</td>\n",
       "      <td>0</td>\n",
       "      <td>0</td>\n",
       "      <td>0</td>\n",
       "      <td>0</td>\n",
       "    </tr>\n",
       "  </tbody>\n",
       "</table>\n",
       "<p>5 rows × 101 columns</p>\n",
       "</div>"
      ],
      "text/plain": [
       "   num_critic_for_reviews  duration  director_facebook_likes  \\\n",
       "0                   723.0     178.0                      0.0   \n",
       "1                   302.0     169.0                    563.0   \n",
       "2                   602.0     148.0                      0.0   \n",
       "3                   813.0     164.0                  22000.0   \n",
       "4                     NaN       NaN                    131.0   \n",
       "\n",
       "   actor_3_facebook_likes      actor_2_name  actor_1_facebook_likes  \\\n",
       "0                   855.0  Joel David Moore                  1000.0   \n",
       "1                  1000.0     Orlando Bloom                 40000.0   \n",
       "2                   161.0      Rory Kinnear                 11000.0   \n",
       "3                 23000.0    Christian Bale                 27000.0   \n",
       "4                     NaN        Rob Walker                   131.0   \n",
       "\n",
       "         gross     actor_1_name                                 movie_title  \\\n",
       "0  760505847.0      CCH Pounder                                      Avatar   \n",
       "1  309404152.0      Johnny Depp    Pirates of the Caribbean: At World's End   \n",
       "2  200074175.0  Christoph Waltz                                     Spectre   \n",
       "3  448130642.0        Tom Hardy                       The Dark Knight Rises   \n",
       "4          NaN      Doug Walker  Star Wars: Episode VII - The Force Awakens   \n",
       "\n",
       "   num_voted_users  ...  actor_1_name_Steve Buscemi  \\\n",
       "0           886204  ...                           0   \n",
       "1           471220  ...                           0   \n",
       "2           275868  ...                           0   \n",
       "3          1144337  ...                           0   \n",
       "4                8  ...                           0   \n",
       "\n",
       "  actor_1_name_Sylvester Stallone  actor_1_name_Tom Cruise  \\\n",
       "0                               0                        0   \n",
       "1                               0                        0   \n",
       "2                               0                        0   \n",
       "3                               0                        0   \n",
       "4                               0                        0   \n",
       "\n",
       "  actor_1_name_Tom Hanks  actor_1_name_Tom Hardy actor_1_name_Tom Wilkinson  \\\n",
       "0                      0                       0                          0   \n",
       "1                      0                       0                          0   \n",
       "2                      0                       0                          0   \n",
       "3                      0                       1                          0   \n",
       "4                      0                       0                          0   \n",
       "\n",
       "   actor_1_name_Viggo Mortensen  actor_1_name_Vin Diesel  \\\n",
       "0                             0                        0   \n",
       "1                             0                        0   \n",
       "2                             0                        0   \n",
       "3                             0                        0   \n",
       "4                             0                        0   \n",
       "\n",
       "   actor_1_name_Will Ferrell  actor_1_name_Will Smith  \n",
       "0                          0                        0  \n",
       "1                          0                        0  \n",
       "2                          0                        0  \n",
       "3                          0                        0  \n",
       "4                          0                        0  \n",
       "\n",
       "[5 rows x 101 columns]"
      ]
     },
     "execution_count": 43,
     "metadata": {},
     "output_type": "execute_result"
    }
   ],
   "source": [
    "movie=pd.concat([movie, pd.get_dummies(movie['actor_1_name'], prefix='actor_1_name', dummy_na=True)],axis=1)\n",
    "for actor in tqdm(list(movie['actor_1_name'].unique())):\n",
    "    if actor not in relevant_actor1:\n",
    "        movie.drop(columns=['actor_1_name_'+str(actor)], inplace = True)\n",
    "movie.head()"
   ]
  },
  {
   "cell_type": "code",
   "execution_count": 44,
   "metadata": {},
   "outputs": [],
   "source": [
    "actor1_df = pd.DataFrame()\n",
    "for col in movie.columns:\n",
    "    if col.startswith('actor_1_name_'):\n",
    "        actor1_df = actor1_df.append({'actors':col, 'correlation':movie.corr()['imdb_score'][col]}, ignore_index=True)"
   ]
  },
  {
   "cell_type": "code",
   "execution_count": 45,
   "metadata": {},
   "outputs": [
    {
     "data": {
      "text/html": [
       "<div>\n",
       "<style scoped>\n",
       "    .dataframe tbody tr th:only-of-type {\n",
       "        vertical-align: middle;\n",
       "    }\n",
       "\n",
       "    .dataframe tbody tr th {\n",
       "        vertical-align: top;\n",
       "    }\n",
       "\n",
       "    .dataframe thead th {\n",
       "        text-align: right;\n",
       "    }\n",
       "</style>\n",
       "<table border=\"1\" class=\"dataframe\">\n",
       "  <thead>\n",
       "    <tr style=\"text-align: right;\">\n",
       "      <th></th>\n",
       "      <th>actors</th>\n",
       "      <th>correlation</th>\n",
       "    </tr>\n",
       "  </thead>\n",
       "  <tbody>\n",
       "    <tr>\n",
       "      <th>0</th>\n",
       "      <td>actor_1_name_Leonardo DiCaprio</td>\n",
       "      <td>0.060922</td>\n",
       "    </tr>\n",
       "    <tr>\n",
       "      <th>1</th>\n",
       "      <td>actor_1_name_Tom Hanks</td>\n",
       "      <td>0.060808</td>\n",
       "    </tr>\n",
       "    <tr>\n",
       "      <th>2</th>\n",
       "      <td>actor_1_name_Harrison Ford</td>\n",
       "      <td>0.047092</td>\n",
       "    </tr>\n",
       "    <tr>\n",
       "      <th>3</th>\n",
       "      <td>actor_1_name_Christian Bale</td>\n",
       "      <td>0.045911</td>\n",
       "    </tr>\n",
       "    <tr>\n",
       "      <th>4</th>\n",
       "      <td>actor_1_name_Clint Eastwood</td>\n",
       "      <td>0.045198</td>\n",
       "    </tr>\n",
       "    <tr>\n",
       "      <th>...</th>\n",
       "      <td>...</td>\n",
       "      <td>...</td>\n",
       "    </tr>\n",
       "    <tr>\n",
       "      <th>69</th>\n",
       "      <td>actor_1_name_Bernie Mac</td>\n",
       "      <td>-0.015010</td>\n",
       "    </tr>\n",
       "    <tr>\n",
       "      <th>70</th>\n",
       "      <td>actor_1_name_Nicolas Cage</td>\n",
       "      <td>-0.016323</td>\n",
       "    </tr>\n",
       "    <tr>\n",
       "      <th>71</th>\n",
       "      <td>actor_1_name_Milla Jovovich</td>\n",
       "      <td>-0.019577</td>\n",
       "    </tr>\n",
       "    <tr>\n",
       "      <th>72</th>\n",
       "      <td>actor_1_name_Gary Oldman</td>\n",
       "      <td>-0.022160</td>\n",
       "    </tr>\n",
       "    <tr>\n",
       "      <th>73</th>\n",
       "      <td>actor_1_name_Brendan Fraser</td>\n",
       "      <td>-0.030890</td>\n",
       "    </tr>\n",
       "  </tbody>\n",
       "</table>\n",
       "<p>74 rows × 2 columns</p>\n",
       "</div>"
      ],
      "text/plain": [
       "                            actors  correlation\n",
       "0   actor_1_name_Leonardo DiCaprio     0.060922\n",
       "1           actor_1_name_Tom Hanks     0.060808\n",
       "2       actor_1_name_Harrison Ford     0.047092\n",
       "3      actor_1_name_Christian Bale     0.045911\n",
       "4      actor_1_name_Clint Eastwood     0.045198\n",
       "..                             ...          ...\n",
       "69         actor_1_name_Bernie Mac    -0.015010\n",
       "70       actor_1_name_Nicolas Cage    -0.016323\n",
       "71     actor_1_name_Milla Jovovich    -0.019577\n",
       "72        actor_1_name_Gary Oldman    -0.022160\n",
       "73     actor_1_name_Brendan Fraser    -0.030890\n",
       "\n",
       "[74 rows x 2 columns]"
      ]
     },
     "execution_count": 45,
     "metadata": {},
     "output_type": "execute_result"
    }
   ],
   "source": [
    "actor1_df = actor1_df.sort_values(['correlation'], ascending = (False),ignore_index=True)\n",
    "actor1_df"
   ]
  },
  {
   "cell_type": "code",
   "execution_count": 46,
   "metadata": {},
   "outputs": [
    {
     "data": {
      "text/plain": [
       "Index(['num_critic_for_reviews', 'duration', 'director_facebook_likes',\n",
       "       'actor_3_facebook_likes', 'actor_2_name', 'actor_1_facebook_likes',\n",
       "       'gross', 'movie_title', 'num_voted_users', 'cast_total_facebook_likes',\n",
       "       'actor_3_name', 'facenumber_in_poster', 'plot_keywords',\n",
       "       'num_user_for_reviews', 'content_rating', 'budget', 'title_year',\n",
       "       'actor_2_facebook_likes', 'imdb_score', 'movie_facebook_likes',\n",
       "       'country_Others', 'country_UK', 'country_USA',\n",
       "       'director_name_Martin Scorsese', 'director_name_Peter Jackson',\n",
       "       'director_name_Steven Spielberg', 'actor_1_name_Leonardo DiCaprio',\n",
       "       'actor_1_name_Tom Hanks'],\n",
       "      dtype='object')"
      ]
     },
     "execution_count": 46,
     "metadata": {},
     "output_type": "execute_result"
    }
   ],
   "source": [
    "# We can keep directors with correlation > 5% and remove the rest\n",
    "keep_actors = ['actor_1_name_Leonardo DiCaprio', 'actor_1_name_Tom Hanks']\n",
    "for col in movie.columns:\n",
    "    if col.startswith('actor_1_name'):\n",
    "        if col not in keep_actors:\n",
    "            movie.drop(columns=[col], inplace = True)\n",
    "movie.columns"
   ]
  },
  {
   "cell_type": "code",
   "execution_count": 47,
   "metadata": {},
   "outputs": [
    {
     "name": "stderr",
     "output_type": "stream",
     "text": [
      "100%|██████████████████████████████████████████████████████████████████████████████| 3033/3033 [01:11<00:00, 42.38it/s]\n"
     ]
    },
    {
     "data": {
      "text/html": [
       "<div>\n",
       "<style scoped>\n",
       "    .dataframe tbody tr th:only-of-type {\n",
       "        vertical-align: middle;\n",
       "    }\n",
       "\n",
       "    .dataframe tbody tr th {\n",
       "        vertical-align: top;\n",
       "    }\n",
       "\n",
       "    .dataframe thead th {\n",
       "        text-align: right;\n",
       "    }\n",
       "</style>\n",
       "<table border=\"1\" class=\"dataframe\">\n",
       "  <thead>\n",
       "    <tr style=\"text-align: right;\">\n",
       "      <th></th>\n",
       "      <th>actors</th>\n",
       "      <th>correlation</th>\n",
       "    </tr>\n",
       "  </thead>\n",
       "  <tbody>\n",
       "    <tr>\n",
       "      <th>0</th>\n",
       "      <td>actor_2_name_Morgan Freeman</td>\n",
       "      <td>0.030956</td>\n",
       "    </tr>\n",
       "    <tr>\n",
       "      <th>1</th>\n",
       "      <td>actor_2_name_Brad Pitt</td>\n",
       "      <td>0.028890</td>\n",
       "    </tr>\n",
       "    <tr>\n",
       "      <th>2</th>\n",
       "      <td>actor_2_name_Meryl Streep</td>\n",
       "      <td>0.023735</td>\n",
       "    </tr>\n",
       "    <tr>\n",
       "      <th>3</th>\n",
       "      <td>actor_2_name_Charlize Theron</td>\n",
       "      <td>0.011664</td>\n",
       "    </tr>\n",
       "    <tr>\n",
       "      <th>4</th>\n",
       "      <td>actor_2_name_James Franco</td>\n",
       "      <td>0.008161</td>\n",
       "    </tr>\n",
       "  </tbody>\n",
       "</table>\n",
       "</div>"
      ],
      "text/plain": [
       "                         actors  correlation\n",
       "0   actor_2_name_Morgan Freeman     0.030956\n",
       "1        actor_2_name_Brad Pitt     0.028890\n",
       "2     actor_2_name_Meryl Streep     0.023735\n",
       "3  actor_2_name_Charlize Theron     0.011664\n",
       "4     actor_2_name_James Franco     0.008161"
      ]
     },
     "execution_count": 47,
     "metadata": {},
     "output_type": "execute_result"
    }
   ],
   "source": [
    "actor2_career = movie['actor_2_name'].value_counts()\n",
    "relevant_actor2 = list(actor2_career[actor2_career>10].index)\n",
    "movie=pd.concat([movie, pd.get_dummies(movie['actor_2_name'], prefix='actor_2_name', dummy_na=True)],axis=1)\n",
    "for actor in tqdm(list(movie['actor_2_name'].unique())):\n",
    "    if actor not in relevant_actor2:\n",
    "        movie.drop(columns=['actor_2_name_'+str(actor)], inplace = True)\n",
    "actor2_df = pd.DataFrame()\n",
    "for col in movie.columns:\n",
    "    if col.startswith('actor_2_name_'):\n",
    "        actor2_df = actor2_df.append({'actors':col, 'correlation':movie.corr()['imdb_score'][col]}, ignore_index=True)\n",
    "actor2_df = actor2_df.sort_values(['correlation'], ascending = (False),ignore_index=True)\n",
    "actor2_df    "
   ]
  },
  {
   "cell_type": "code",
   "execution_count": 48,
   "metadata": {},
   "outputs": [
    {
     "data": {
      "text/plain": [
       "Index(['num_critic_for_reviews', 'duration', 'director_facebook_likes',\n",
       "       'actor_3_facebook_likes', 'actor_1_facebook_likes', 'gross',\n",
       "       'movie_title', 'num_voted_users', 'cast_total_facebook_likes',\n",
       "       'actor_3_name', 'facenumber_in_poster', 'plot_keywords',\n",
       "       'num_user_for_reviews', 'content_rating', 'budget', 'title_year',\n",
       "       'actor_2_facebook_likes', 'imdb_score', 'movie_facebook_likes',\n",
       "       'country_Others', 'country_UK', 'country_USA',\n",
       "       'director_name_Martin Scorsese', 'director_name_Peter Jackson',\n",
       "       'director_name_Steven Spielberg', 'actor_1_name_Leonardo DiCaprio',\n",
       "       'actor_1_name_Tom Hanks'],\n",
       "      dtype='object')"
      ]
     },
     "execution_count": 48,
     "metadata": {},
     "output_type": "execute_result"
    }
   ],
   "source": [
    "# No actor2 has high correlation\n",
    "for col in movie.columns:\n",
    "    if col.startswith('actor_2_name'):\n",
    "        movie.drop(columns=[col], inplace = True)\n",
    "movie.columns"
   ]
  },
  {
   "cell_type": "code",
   "execution_count": 49,
   "metadata": {},
   "outputs": [
    {
     "data": {
      "text/plain": [
       "[]"
      ]
     },
     "execution_count": 49,
     "metadata": {},
     "output_type": "execute_result"
    }
   ],
   "source": [
    "actor3_career = movie['actor_3_name'].value_counts()\n",
    "relevant_actor3 = list(actor3_career[actor3_career>10].index)\n",
    "relevant_actor3"
   ]
  },
  {
   "cell_type": "code",
   "execution_count": 50,
   "metadata": {},
   "outputs": [
    {
     "data": {
      "text/plain": [
       "Index(['num_critic_for_reviews', 'duration', 'director_facebook_likes',\n",
       "       'actor_3_facebook_likes', 'actor_1_facebook_likes', 'gross',\n",
       "       'movie_title', 'num_voted_users', 'cast_total_facebook_likes',\n",
       "       'facenumber_in_poster', 'plot_keywords', 'num_user_for_reviews',\n",
       "       'content_rating', 'budget', 'title_year', 'actor_2_facebook_likes',\n",
       "       'imdb_score', 'movie_facebook_likes', 'country_Others', 'country_UK',\n",
       "       'country_USA', 'director_name_Martin Scorsese',\n",
       "       'director_name_Peter Jackson', 'director_name_Steven Spielberg',\n",
       "       'actor_1_name_Leonardo DiCaprio', 'actor_1_name_Tom Hanks'],\n",
       "      dtype='object')"
      ]
     },
     "execution_count": 50,
     "metadata": {},
     "output_type": "execute_result"
    }
   ],
   "source": [
    "# No actor3 is relevant enough\n",
    "movie.drop(columns=['actor_3_name'], inplace = True)\n",
    "movie.columns"
   ]
  },
  {
   "cell_type": "markdown",
   "metadata": {},
   "source": [
    "#### PLOT KEYWORDS"
   ]
  },
  {
   "cell_type": "code",
   "execution_count": 51,
   "metadata": {},
   "outputs": [
    {
     "data": {
      "text/plain": [
       "0                  avatar|future|marine|native|paraplegic\n",
       "1       goddess|marriage ceremony|marriage proposal|pi...\n",
       "2                     bomb|espionage|sequel|spy|terrorist\n",
       "3       deception|imprisonment|lawlessness|police offi...\n",
       "4                                                     NaN\n",
       "                              ...                        \n",
       "4993               fraud|postal worker|prison|theft|trial\n",
       "4994         cult|fbi|hideout|prison escape|serial killer\n",
       "4995                                                  NaN\n",
       "4996                                                  NaN\n",
       "4997    actress name in title|crush|date|four word tit...\n",
       "Name: plot_keywords, Length: 4998, dtype: object"
      ]
     },
     "execution_count": 51,
     "metadata": {},
     "output_type": "execute_result"
    }
   ],
   "source": [
    "movie['plot_keywords']"
   ]
  },
  {
   "cell_type": "code",
   "execution_count": 52,
   "metadata": {},
   "outputs": [
    {
     "data": {
      "text/plain": [
       "Index(['num_critic_for_reviews', 'duration', 'director_facebook_likes',\n",
       "       'actor_3_facebook_likes', 'actor_1_facebook_likes', 'gross',\n",
       "       'num_voted_users', 'cast_total_facebook_likes', 'facenumber_in_poster',\n",
       "       'num_user_for_reviews', 'content_rating', 'budget', 'title_year',\n",
       "       'actor_2_facebook_likes', 'imdb_score', 'movie_facebook_likes',\n",
       "       'country_Others', 'country_UK', 'country_USA',\n",
       "       'director_name_Martin Scorsese', 'director_name_Peter Jackson',\n",
       "       'director_name_Steven Spielberg', 'actor_1_name_Leonardo DiCaprio',\n",
       "       'actor_1_name_Tom Hanks'],\n",
       "      dtype='object')"
      ]
     },
     "execution_count": 52,
     "metadata": {},
     "output_type": "execute_result"
    }
   ],
   "source": [
    "# Plot keywords are too diverse to affect the score, at the same time lets drop movie_title too, should have noticed earlier\n",
    "movie.drop(columns=['plot_keywords', 'movie_title'], inplace = True)\n",
    "movie.columns"
   ]
  },
  {
   "cell_type": "markdown",
   "metadata": {},
   "source": [
    "#### ACTOR DIRECTOR FACEBOOK LIKES"
   ]
  },
  {
   "cell_type": "code",
   "execution_count": 53,
   "metadata": {},
   "outputs": [
    {
     "name": "stdout",
     "output_type": "stream",
     "text": [
      "Director_likes 0.17156381256103043\n",
      "Actor_1_likes 0.07595217660257446\n",
      "Actor_2_likes 0.0824000362791679\n",
      "Actor_3_likes 0.05168340847748046\n"
     ]
    }
   ],
   "source": [
    "cor = movie.corr()\n",
    "print('Director_likes', cor['imdb_score']['director_facebook_likes'])\n",
    "print('Actor_1_likes', cor['imdb_score']['actor_1_facebook_likes'])\n",
    "print('Actor_2_likes', cor['imdb_score']['actor_2_facebook_likes'])\n",
    "print('Actor_3_likes', cor['imdb_score']['actor_3_facebook_likes'])"
   ]
  },
  {
   "cell_type": "code",
   "execution_count": 54,
   "metadata": {},
   "outputs": [
    {
     "data": {
      "image/png": "[encoded data removed]",
      "text/plain": [
       "<Figure size 432x288 with 1 Axes>"
      ]
     },
     "metadata": {
      "needs_background": "light"
     },
     "output_type": "display_data"
    }
   ],
   "source": [
    "x=movie['director_facebook_likes'].to_list()\n",
    "y=movie['imdb_score'].to_list()\n",
    "plt.scatter(x,y)\n",
    "plt.show()"
   ]
  },
  {
   "cell_type": "code",
   "execution_count": 55,
   "metadata": {},
   "outputs": [
    {
     "data": {
      "image/png": "[encoded data removed]",
      "text/plain": [
       "<Figure size 432x288 with 1 Axes>"
      ]
     },
     "metadata": {
      "needs_background": "light"
     },
     "output_type": "display_data"
    }
   ],
   "source": [
    "x=movie['actor_1_facebook_likes'].to_list()\n",
    "y=movie['imdb_score'].to_list()\n",
    "plt.scatter(x,y)\n",
    "plt.show()"
   ]
  },
  {
   "cell_type": "code",
   "execution_count": 56,
   "metadata": {},
   "outputs": [
    {
     "data": {
      "image/png": "[encoded data removed]",
      "text/plain": [
       "<Figure size 432x288 with 1 Axes>"
      ]
     },
     "metadata": {
      "needs_background": "light"
     },
     "output_type": "display_data"
    }
   ],
   "source": [
    "x=movie['actor_2_facebook_likes'].to_list()\n",
    "y=movie['imdb_score'].to_list()\n",
    "plt.scatter(x,y)\n",
    "plt.show()"
   ]
  },
  {
   "cell_type": "code",
   "execution_count": 57,
   "metadata": {},
   "outputs": [
    {
     "data": {
      "image/png": "[encoded data removed]",
      "text/plain": [
       "<Figure size 432x288 with 1 Axes>"
      ]
     },
     "metadata": {
      "needs_background": "light"
     },
     "output_type": "display_data"
    }
   ],
   "source": [
    "x=movie['actor_3_facebook_likes'].to_list()\n",
    "y=movie['imdb_score'].to_list()\n",
    "plt.scatter(x,y)\n",
    "plt.show()"
   ]
  },
  {
   "cell_type": "code",
   "execution_count": 58,
   "metadata": {},
   "outputs": [
    {
     "data": {
      "text/plain": [
       "Index(['num_critic_for_reviews', 'duration', 'director_facebook_likes',\n",
       "       'actor_3_facebook_likes', 'actor_1_facebook_likes', 'gross',\n",
       "       'num_voted_users', 'cast_total_facebook_likes', 'facenumber_in_poster',\n",
       "       'num_user_for_reviews', 'content_rating', 'budget', 'title_year',\n",
       "       'actor_2_facebook_likes', 'imdb_score', 'movie_facebook_likes',\n",
       "       'country_Others', 'country_UK', 'country_USA'],\n",
       "      dtype='object')"
      ]
     },
     "execution_count": 58,
     "metadata": {},
     "output_type": "execute_result"
    }
   ],
   "source": [
    "# These correlations are better than the one-hot encoding we did above\n",
    "# i.e. the work we did earlier on actor director name is waste, lets remove them\n",
    "remove_cols = keep_actors+keep_directors\n",
    "movie.drop(columns=remove_cols, inplace = True)\n",
    "movie.columns"
   ]
  },
  {
   "cell_type": "markdown",
   "metadata": {},
   "source": [
    "#### DURATION"
   ]
  },
  {
   "cell_type": "code",
   "execution_count": 59,
   "metadata": {},
   "outputs": [
    {
     "name": "stderr",
     "output_type": "stream",
     "text": [
      "c:\\users\\vivek\\.conda\\envs\\machine_learning\\lib\\site-packages\\numpy\\core\\fromnumeric.py:2920: RuntimeWarning: Mean of empty slice.\n",
      "  out=out, **kwargs)\n",
      "c:\\users\\vivek\\.conda\\envs\\machine_learning\\lib\\site-packages\\numpy\\core\\_methods.py:85: RuntimeWarning: invalid value encountered in double_scalars\n",
      "  ret = ret.dtype.type(ret / rcount)\n"
     ]
    },
    {
     "data": {
      "image/png": "[encoded data removed]",
      "text/plain": [
       "<Figure size 432x288 with 1 Axes>"
      ]
     },
     "metadata": {
      "needs_background": "light"
     },
     "output_type": "display_data"
    }
   ],
   "source": [
    "x=movie['duration'].to_list()\n",
    "y=movie['imdb_score'].to_list()\n",
    "r, s = zip(*sorted((xVal, np.mean([yVal for a, yVal in zip(x, y) if xVal==a])) for xVal in set(x)))\n",
    "plt.scatter(x,y)\n",
    "plt.plot(r,s,'r-')\n",
    "plt.show()"
   ]
  },
  {
   "cell_type": "code",
   "execution_count": 60,
   "metadata": {},
   "outputs": [
    {
     "data": {
      "text/plain": [
       "0.2626182989045786"
      ]
     },
     "execution_count": 60,
     "metadata": {},
     "output_type": "execute_result"
    }
   ],
   "source": [
    "movie.corr()['imdb_score']['duration']"
   ]
  },
  {
   "cell_type": "markdown",
   "metadata": {},
   "source": [
    "#### TITLE YEAR"
   ]
  },
  {
   "cell_type": "code",
   "execution_count": 61,
   "metadata": {},
   "outputs": [
    {
     "data": {
      "text/plain": [
       "0    2009.0\n",
       "1    2007.0\n",
       "2    2015.0\n",
       "3    2012.0\n",
       "4       NaN\n",
       "Name: title_year, dtype: float64"
      ]
     },
     "execution_count": 61,
     "metadata": {},
     "output_type": "execute_result"
    }
   ],
   "source": [
    "movie['title_year'].head()"
   ]
  },
  {
   "cell_type": "code",
   "execution_count": 62,
   "metadata": {},
   "outputs": [
    {
     "data": {
      "image/png": "[encoded data removed]",
      "text/plain": [
       "<Figure size 432x288 with 1 Axes>"
      ]
     },
     "metadata": {
      "needs_background": "light"
     },
     "output_type": "display_data"
    }
   ],
   "source": [
    "x=movie['title_year'].to_list()\n",
    "y=movie['imdb_score'].to_list()\n",
    "plt.scatter(x,y)\n",
    "plt.show()"
   ]
  },
  {
   "cell_type": "code",
   "execution_count": 63,
   "metadata": {},
   "outputs": [
    {
     "name": "stderr",
     "output_type": "stream",
     "text": [
      "c:\\users\\vivek\\.conda\\envs\\machine_learning\\lib\\site-packages\\numpy\\lib\\histograms.py:754: RuntimeWarning: invalid value encountered in greater_equal\n",
      "  keep = (tmp_a >= first_edge)\n",
      "c:\\users\\vivek\\.conda\\envs\\machine_learning\\lib\\site-packages\\numpy\\lib\\histograms.py:755: RuntimeWarning: invalid value encountered in less_equal\n",
      "  keep &= (tmp_a <= last_edge)\n"
     ]
    },
    {
     "data": {
      "image/png": "[encoded data removed]",
      "text/plain": [
       "<Figure size 432x288 with 1 Axes>"
      ]
     },
     "metadata": {
      "needs_background": "light"
     },
     "output_type": "display_data"
    }
   ],
   "source": [
    "x=movie['title_year'].to_list()\n",
    "plt.hist(x, bins=30, alpha=0.5, histtype='bar', ec='black')\n",
    "plt.show()"
   ]
  },
  {
   "cell_type": "code",
   "execution_count": 64,
   "metadata": {},
   "outputs": [
    {
     "data": {
      "text/plain": [
       "258"
      ]
     },
     "execution_count": 64,
     "metadata": {},
     "output_type": "execute_result"
    }
   ],
   "source": [
    "#There are very few movies before 1980\n",
    "len(movie[movie['title_year']<1980])"
   ]
  },
  {
   "cell_type": "code",
   "execution_count": 65,
   "metadata": {},
   "outputs": [
    {
     "data": {
      "text/html": [
       "<div>\n",
       "<style scoped>\n",
       "    .dataframe tbody tr th:only-of-type {\n",
       "        vertical-align: middle;\n",
       "    }\n",
       "\n",
       "    .dataframe tbody tr th {\n",
       "        vertical-align: top;\n",
       "    }\n",
       "\n",
       "    .dataframe thead th {\n",
       "        text-align: right;\n",
       "    }\n",
       "</style>\n",
       "<table border=\"1\" class=\"dataframe\">\n",
       "  <thead>\n",
       "    <tr style=\"text-align: right;\">\n",
       "      <th></th>\n",
       "      <th>num_critic_for_reviews</th>\n",
       "      <th>duration</th>\n",
       "      <th>director_facebook_likes</th>\n",
       "      <th>actor_3_facebook_likes</th>\n",
       "      <th>actor_1_facebook_likes</th>\n",
       "      <th>gross</th>\n",
       "      <th>num_voted_users</th>\n",
       "      <th>cast_total_facebook_likes</th>\n",
       "      <th>facenumber_in_poster</th>\n",
       "      <th>num_user_for_reviews</th>\n",
       "      <th>budget</th>\n",
       "      <th>title_year</th>\n",
       "      <th>actor_2_facebook_likes</th>\n",
       "      <th>imdb_score</th>\n",
       "      <th>movie_facebook_likes</th>\n",
       "      <th>country_Others</th>\n",
       "      <th>country_UK</th>\n",
       "      <th>country_USA</th>\n",
       "    </tr>\n",
       "  </thead>\n",
       "  <tbody>\n",
       "    <tr>\n",
       "      <th>count</th>\n",
       "      <td>4569.000000</td>\n",
       "      <td>4597.000000</td>\n",
       "      <td>4609.000000</td>\n",
       "      <td>4593.000000</td>\n",
       "      <td>4602.000000</td>\n",
       "      <td>4.006000e+03</td>\n",
       "      <td>4.609000e+03</td>\n",
       "      <td>4609.000000</td>\n",
       "      <td>4596.000000</td>\n",
       "      <td>4594.000000</td>\n",
       "      <td>4.240000e+03</td>\n",
       "      <td>4609.000000</td>\n",
       "      <td>4599.000000</td>\n",
       "      <td>4609.000000</td>\n",
       "      <td>4609.000000</td>\n",
       "      <td>4609.000000</td>\n",
       "      <td>4609.000000</td>\n",
       "      <td>4609.000000</td>\n",
       "    </tr>\n",
       "    <tr>\n",
       "      <th>mean</th>\n",
       "      <td>145.369009</td>\n",
       "      <td>107.439199</td>\n",
       "      <td>655.700803</td>\n",
       "      <td>669.278032</td>\n",
       "      <td>6925.624076</td>\n",
       "      <td>4.816392e+07</td>\n",
       "      <td>8.490123e+04</td>\n",
       "      <td>10196.066175</td>\n",
       "      <td>1.367929</td>\n",
       "      <td>277.536569</td>\n",
       "      <td>4.186184e+07</td>\n",
       "      <td>2004.765459</td>\n",
       "      <td>1737.500326</td>\n",
       "      <td>6.363984</td>\n",
       "      <td>7821.235192</td>\n",
       "      <td>0.160338</td>\n",
       "      <td>0.084834</td>\n",
       "      <td>0.754828</td>\n",
       "    </tr>\n",
       "    <tr>\n",
       "      <th>std</th>\n",
       "      <td>123.245427</td>\n",
       "      <td>21.384398</td>\n",
       "      <td>2757.174372</td>\n",
       "      <td>1704.365381</td>\n",
       "      <td>15571.925379</td>\n",
       "      <td>6.794297e+07</td>\n",
       "      <td>1.385089e+05</td>\n",
       "      <td>18754.537536</td>\n",
       "      <td>2.017811</td>\n",
       "      <td>384.977025</td>\n",
       "      <td>2.132960e+08</td>\n",
       "      <td>7.852418</td>\n",
       "      <td>4169.503790</td>\n",
       "      <td>1.101195</td>\n",
       "      <td>19893.145891</td>\n",
       "      <td>0.366959</td>\n",
       "      <td>0.278665</td>\n",
       "      <td>0.430236</td>\n",
       "    </tr>\n",
       "    <tr>\n",
       "      <th>min</th>\n",
       "      <td>1.000000</td>\n",
       "      <td>7.000000</td>\n",
       "      <td>0.000000</td>\n",
       "      <td>0.000000</td>\n",
       "      <td>0.000000</td>\n",
       "      <td>1.620000e+02</td>\n",
       "      <td>5.000000e+00</td>\n",
       "      <td>0.000000</td>\n",
       "      <td>0.000000</td>\n",
       "      <td>1.000000</td>\n",
       "      <td>2.180000e+02</td>\n",
       "      <td>1981.000000</td>\n",
       "      <td>0.000000</td>\n",
       "      <td>1.600000</td>\n",
       "      <td>0.000000</td>\n",
       "      <td>0.000000</td>\n",
       "      <td>0.000000</td>\n",
       "      <td>0.000000</td>\n",
       "    </tr>\n",
       "    <tr>\n",
       "      <th>25%</th>\n",
       "      <td>54.000000</td>\n",
       "      <td>94.000000</td>\n",
       "      <td>7.000000</td>\n",
       "      <td>141.000000</td>\n",
       "      <td>637.000000</td>\n",
       "      <td>5.306974e+06</td>\n",
       "      <td>9.104000e+03</td>\n",
       "      <td>1484.000000</td>\n",
       "      <td>0.000000</td>\n",
       "      <td>66.000000</td>\n",
       "      <td>7.000000e+06</td>\n",
       "      <td>2000.000000</td>\n",
       "      <td>300.000000</td>\n",
       "      <td>5.700000</td>\n",
       "      <td>0.000000</td>\n",
       "      <td>0.000000</td>\n",
       "      <td>0.000000</td>\n",
       "      <td>1.000000</td>\n",
       "    </tr>\n",
       "    <tr>\n",
       "      <th>50%</th>\n",
       "      <td>116.000000</td>\n",
       "      <td>103.000000</td>\n",
       "      <td>47.000000</td>\n",
       "      <td>387.000000</td>\n",
       "      <td>1000.000000</td>\n",
       "      <td>2.531619e+07</td>\n",
       "      <td>3.583300e+04</td>\n",
       "      <td>3275.000000</td>\n",
       "      <td>1.000000</td>\n",
       "      <td>160.000000</td>\n",
       "      <td>2.000000e+07</td>\n",
       "      <td>2006.000000</td>\n",
       "      <td>619.000000</td>\n",
       "      <td>6.500000</td>\n",
       "      <td>162.000000</td>\n",
       "      <td>0.000000</td>\n",
       "      <td>0.000000</td>\n",
       "      <td>1.000000</td>\n",
       "    </tr>\n",
       "    <tr>\n",
       "      <th>75%</th>\n",
       "      <td>202.000000</td>\n",
       "      <td>117.000000</td>\n",
       "      <td>190.000000</td>\n",
       "      <td>648.000000</td>\n",
       "      <td>11000.000000</td>\n",
       "      <td>6.146750e+07</td>\n",
       "      <td>9.869300e+04</td>\n",
       "      <td>14504.000000</td>\n",
       "      <td>2.000000</td>\n",
       "      <td>334.000000</td>\n",
       "      <td>4.700000e+07</td>\n",
       "      <td>2011.000000</td>\n",
       "      <td>935.000000</td>\n",
       "      <td>7.100000</td>\n",
       "      <td>4000.000000</td>\n",
       "      <td>0.000000</td>\n",
       "      <td>0.000000</td>\n",
       "      <td>1.000000</td>\n",
       "    </tr>\n",
       "    <tr>\n",
       "      <th>max</th>\n",
       "      <td>813.000000</td>\n",
       "      <td>330.000000</td>\n",
       "      <td>23000.000000</td>\n",
       "      <td>23000.000000</td>\n",
       "      <td>640000.000000</td>\n",
       "      <td>7.605058e+08</td>\n",
       "      <td>1.689764e+06</td>\n",
       "      <td>656730.000000</td>\n",
       "      <td>43.000000</td>\n",
       "      <td>5060.000000</td>\n",
       "      <td>1.221550e+10</td>\n",
       "      <td>2016.000000</td>\n",
       "      <td>137000.000000</td>\n",
       "      <td>9.300000</td>\n",
       "      <td>349000.000000</td>\n",
       "      <td>1.000000</td>\n",
       "      <td>1.000000</td>\n",
       "      <td>1.000000</td>\n",
       "    </tr>\n",
       "  </tbody>\n",
       "</table>\n",
       "</div>"
      ],
      "text/plain": [
       "       num_critic_for_reviews     duration  director_facebook_likes  \\\n",
       "count             4569.000000  4597.000000              4609.000000   \n",
       "mean               145.369009   107.439199               655.700803   \n",
       "std                123.245427    21.384398              2757.174372   \n",
       "min                  1.000000     7.000000                 0.000000   \n",
       "25%                 54.000000    94.000000                 7.000000   \n",
       "50%                116.000000   103.000000                47.000000   \n",
       "75%                202.000000   117.000000               190.000000   \n",
       "max                813.000000   330.000000             23000.000000   \n",
       "\n",
       "       actor_3_facebook_likes  actor_1_facebook_likes         gross  \\\n",
       "count             4593.000000             4602.000000  4.006000e+03   \n",
       "mean               669.278032             6925.624076  4.816392e+07   \n",
       "std               1704.365381            15571.925379  6.794297e+07   \n",
       "min                  0.000000                0.000000  1.620000e+02   \n",
       "25%                141.000000              637.000000  5.306974e+06   \n",
       "50%                387.000000             1000.000000  2.531619e+07   \n",
       "75%                648.000000            11000.000000  6.146750e+07   \n",
       "max              23000.000000           640000.000000  7.605058e+08   \n",
       "\n",
       "       num_voted_users  cast_total_facebook_likes  facenumber_in_poster  \\\n",
       "count     4.609000e+03                4609.000000           4596.000000   \n",
       "mean      8.490123e+04               10196.066175              1.367929   \n",
       "std       1.385089e+05               18754.537536              2.017811   \n",
       "min       5.000000e+00                   0.000000              0.000000   \n",
       "25%       9.104000e+03                1484.000000              0.000000   \n",
       "50%       3.583300e+04                3275.000000              1.000000   \n",
       "75%       9.869300e+04               14504.000000              2.000000   \n",
       "max       1.689764e+06              656730.000000             43.000000   \n",
       "\n",
       "       num_user_for_reviews        budget   title_year  \\\n",
       "count           4594.000000  4.240000e+03  4609.000000   \n",
       "mean             277.536569  4.186184e+07  2004.765459   \n",
       "std              384.977025  2.132960e+08     7.852418   \n",
       "min                1.000000  2.180000e+02  1981.000000   \n",
       "25%               66.000000  7.000000e+06  2000.000000   \n",
       "50%              160.000000  2.000000e+07  2006.000000   \n",
       "75%              334.000000  4.700000e+07  2011.000000   \n",
       "max             5060.000000  1.221550e+10  2016.000000   \n",
       "\n",
       "       actor_2_facebook_likes   imdb_score  movie_facebook_likes  \\\n",
       "count             4599.000000  4609.000000           4609.000000   \n",
       "mean              1737.500326     6.363984           7821.235192   \n",
       "std               4169.503790     1.101195          19893.145891   \n",
       "min                  0.000000     1.600000              0.000000   \n",
       "25%                300.000000     5.700000              0.000000   \n",
       "50%                619.000000     6.500000            162.000000   \n",
       "75%                935.000000     7.100000           4000.000000   \n",
       "max             137000.000000     9.300000         349000.000000   \n",
       "\n",
       "       country_Others   country_UK  country_USA  \n",
       "count     4609.000000  4609.000000  4609.000000  \n",
       "mean         0.160338     0.084834     0.754828  \n",
       "std          0.366959     0.278665     0.430236  \n",
       "min          0.000000     0.000000     0.000000  \n",
       "25%          0.000000     0.000000     1.000000  \n",
       "50%          0.000000     0.000000     1.000000  \n",
       "75%          0.000000     0.000000     1.000000  \n",
       "max          1.000000     1.000000     1.000000  "
      ]
     },
     "execution_count": 65,
     "metadata": {},
     "output_type": "execute_result"
    }
   ],
   "source": [
    "#We may remove these data as they may cause wrong representation\n",
    "movie = movie[movie['title_year']>1980]\n",
    "movie.describe()"
   ]
  },
  {
   "cell_type": "code",
   "execution_count": 66,
   "metadata": {},
   "outputs": [
    {
     "data": {
      "text/plain": [
       "-0.0947817538199504"
      ]
     },
     "execution_count": 66,
     "metadata": {},
     "output_type": "execute_result"
    }
   ],
   "source": [
    "movie.corr()['imdb_score']['title_year']"
   ]
  },
  {
   "cell_type": "markdown",
   "metadata": {},
   "source": [
    "#### ZERO VALUES"
   ]
  },
  {
   "cell_type": "code",
   "execution_count": 67,
   "metadata": {},
   "outputs": [
    {
     "data": {
      "text/plain": [
       "num_critic_for_reviews          0\n",
       "imdb_score                      0\n",
       "title_year                      0\n",
       "budget                          0\n",
       "content_rating                  0\n",
       "num_voted_users                 0\n",
       "num_user_for_reviews            0\n",
       "duration                        0\n",
       "gross                           0\n",
       "actor_1_facebook_likes         23\n",
       "cast_total_facebook_likes      30\n",
       "actor_2_facebook_likes         50\n",
       "actor_3_facebook_likes         82\n",
       "director_facebook_likes       836\n",
       "country_USA                  1130\n",
       "facenumber_in_poster         1964\n",
       "movie_facebook_likes         1991\n",
       "country_Others               3870\n",
       "country_UK                   4218\n",
       "dtype: int64"
      ]
     },
     "execution_count": 67,
     "metadata": {},
     "output_type": "execute_result"
    }
   ],
   "source": [
    "(len(movie) - movie.astype(bool).sum(axis=0)).sort_values()"
   ]
  },
  {
   "cell_type": "code",
   "execution_count": 68,
   "metadata": {},
   "outputs": [
    {
     "data": {
      "text/plain": [
       "num_critic_for_reviews          0\n",
       "movie_facebook_likes            0\n",
       "imdb_score                      0\n",
       "actor_2_facebook_likes          0\n",
       "title_year                      0\n",
       "budget                          0\n",
       "content_rating                  0\n",
       "num_user_for_reviews            0\n",
       "num_voted_users                 0\n",
       "gross                           0\n",
       "actor_1_facebook_likes          0\n",
       "actor_3_facebook_likes          0\n",
       "director_facebook_likes         0\n",
       "duration                        0\n",
       "cast_total_facebook_likes       0\n",
       "country_USA                  1130\n",
       "facenumber_in_poster         1964\n",
       "country_Others               3870\n",
       "country_UK                   4218\n",
       "dtype: int64"
      ]
     },
     "execution_count": 68,
     "metadata": {},
     "output_type": "execute_result"
    }
   ],
   "source": [
    "# Zero values other than categorical and facenumbers in poster should be treated as nan\n",
    "# So that it can be replaced by median value later on\n",
    "columns = ['actor_1_facebook_likes', 'cast_total_facebook_likes', 'actor_2_facebook_likes', 'actor_3_facebook_likes', 'director_facebook_likes', 'movie_facebook_likes']\n",
    "for cols in columns:\n",
    "    movie.loc[movie[cols]==0, cols] = np.nan\n",
    "(len(movie) - movie.astype(bool).sum(axis=0)).sort_values()"
   ]
  },
  {
   "cell_type": "markdown",
   "metadata": {},
   "source": [
    "#### NULL VALUES"
   ]
  },
  {
   "cell_type": "code",
   "execution_count": 69,
   "metadata": {},
   "outputs": [
    {
     "data": {
      "text/plain": [
       "country_USA                     0\n",
       "country_Others                  0\n",
       "imdb_score                      0\n",
       "title_year                      0\n",
       "country_UK                      0\n",
       "num_voted_users                 0\n",
       "duration                       12\n",
       "facenumber_in_poster           13\n",
       "num_user_for_reviews           15\n",
       "actor_1_facebook_likes         30\n",
       "cast_total_facebook_likes      30\n",
       "num_critic_for_reviews         40\n",
       "actor_2_facebook_likes         60\n",
       "actor_3_facebook_likes         98\n",
       "content_rating                253\n",
       "budget                        369\n",
       "gross                         603\n",
       "director_facebook_likes       836\n",
       "movie_facebook_likes         1991\n",
       "dtype: int64"
      ]
     },
     "execution_count": 69,
     "metadata": {},
     "output_type": "execute_result"
    }
   ],
   "source": [
    "movie.isnull().sum().sort_values()"
   ]
  },
  {
   "cell_type": "code",
   "execution_count": 70,
   "metadata": {},
   "outputs": [],
   "source": [
    "# Budget and gross have a huge impact on movie\n",
    "# We cant just assign it a median value, it would be better for our dataset if we dropout the null value rows.\n",
    "movie.dropna(subset=['gross'],inplace=True)\n",
    "movie.dropna(subset=['budget'],inplace=True)"
   ]
  },
  {
   "cell_type": "code",
   "execution_count": 71,
   "metadata": {},
   "outputs": [
    {
     "name": "stdout",
     "output_type": "stream",
     "text": [
      "cast_total_facebook_likes - [3969.]\n",
      "director_facebook_likes - [92.]\n",
      "actor_1_facebook_likes - [1000.]\n",
      "movie_facebook_likes - [10000.]\n",
      "actor_2_facebook_likes - [681.]\n",
      "duration - [105.]\n",
      "facenumber_in_poster - [1.]\n",
      "num_user_for_reviews - [200.]\n",
      "actor_3_facebook_likes - [436.]\n",
      "num_critic_for_reviews - [135.]\n"
     ]
    }
   ],
   "source": [
    "columns = ['cast_total_facebook_likes', 'director_facebook_likes', 'actor_1_facebook_likes', 'movie_facebook_likes', 'actor_2_facebook_likes', 'duration', 'facenumber_in_poster', 'num_user_for_reviews', 'actor_3_facebook_likes', 'num_critic_for_reviews']\n",
    "for cols in columns:\n",
    "    imputer = SimpleImputer(strategy = 'median')\n",
    "    imputer.fit(np.asarray(movie[cols]).reshape(-1, 1))\n",
    "    print(cols, '-', imputer.statistics_)\n",
    "    filled = imputer.transform(np.asarray(movie[cols]).reshape(-1, 1))\n",
    "    movie[cols]=filled"
   ]
  },
  {
   "cell_type": "code",
   "execution_count": 72,
   "metadata": {},
   "outputs": [
    {
     "data": {
      "text/plain": [
       "num_critic_for_reviews        0\n",
       "country_Others                0\n",
       "movie_facebook_likes          0\n",
       "imdb_score                    0\n",
       "actor_2_facebook_likes        0\n",
       "title_year                    0\n",
       "budget                        0\n",
       "country_UK                    0\n",
       "num_user_for_reviews          0\n",
       "cast_total_facebook_likes     0\n",
       "num_voted_users               0\n",
       "gross                         0\n",
       "actor_1_facebook_likes        0\n",
       "actor_3_facebook_likes        0\n",
       "director_facebook_likes       0\n",
       "duration                      0\n",
       "facenumber_in_poster          0\n",
       "country_USA                   0\n",
       "content_rating               50\n",
       "dtype: int64"
      ]
     },
     "execution_count": 72,
     "metadata": {},
     "output_type": "execute_result"
    }
   ],
   "source": [
    "movie.isnull().sum().sort_values()"
   ]
  },
  {
   "cell_type": "markdown",
   "metadata": {},
   "source": [
    "#### CONTENT RATING"
   ]
  },
  {
   "cell_type": "code",
   "execution_count": 73,
   "metadata": {},
   "outputs": [
    {
     "data": {
      "text/plain": [
       "array(['PG-13', 'PG', 'G', 'R', 'NC-17', nan, 'X', 'Not Rated', 'Unrated'],\n",
       "      dtype=object)"
      ]
     },
     "execution_count": 73,
     "metadata": {},
     "output_type": "execute_result"
    }
   ],
   "source": [
    "movie['content_rating'].unique()\n",
    "#PG – Parental Guidance Suggested\n",
    "#PG-13 – Parents Strongly Cautioned\n",
    "#G - General Audiences\n",
    "#R – Restricted\n",
    "#NC-17 – Adults Only\n",
    "#X - Persons under 16 not admitted.\n",
    "#TV-14 - parents may find unsuitable for children under 14 years of age.\n",
    "#TV-G - This program is suitable for all ages\n",
    "#TV-PG - This program contains material that parents may find unsuitable for younger children."
   ]
  },
  {
   "cell_type": "code",
   "execution_count": 74,
   "metadata": {},
   "outputs": [
    {
     "data": {
      "text/plain": [
       "array(['PG-13', 'PG', 'G', 'R', 'NC-17', nan, 'Not Rated', 'Unrated'],\n",
       "      dtype=object)"
      ]
     },
     "execution_count": 74,
     "metadata": {},
     "output_type": "execute_result"
    }
   ],
   "source": [
    "movie.loc[movie['content_rating']=='TV-PG', 'content_rating'] = 'PG'\n",
    "movie.loc[movie['content_rating']=='TV-G', 'content_rating'] = 'G'\n",
    "movie.loc[movie['content_rating']=='TV-14', 'content_rating'] = 'PG-13'\n",
    "movie.loc[movie['content_rating']=='X', 'content_rating'] = 'NC-17'\n",
    "movie['content_rating'].unique()"
   ]
  },
  {
   "cell_type": "code",
   "execution_count": 75,
   "metadata": {},
   "outputs": [
    {
     "data": {
      "image/png": "[encoded data removed]",
      "text/plain": [
       "<Figure size 432x288 with 1 Axes>"
      ]
     },
     "metadata": {
      "needs_background": "light"
     },
     "output_type": "display_data"
    }
   ],
   "source": [
    "x=movie['content_rating'].to_list()\n",
    "plt.hist(x, bins=30, alpha=0.5, histtype='bar', ec='black')\n",
    "plt.xticks(rotation=90)\n",
    "plt.show()"
   ]
  },
  {
   "cell_type": "code",
   "execution_count": 76,
   "metadata": {},
   "outputs": [
    {
     "data": {
      "image/png": "[encoded data removed]",
      "text/plain": [
       "<Figure size 432x288 with 1 Axes>"
      ]
     },
     "metadata": {
      "needs_background": "light"
     },
     "output_type": "display_data"
    }
   ],
   "source": [
    "x=[str(x) for x in movie['content_rating']]\n",
    "y=movie['imdb_score'].to_list()\n",
    "plt.scatter(x,y)\n",
    "r, s = zip(*sorted((xVal, np.mean([yVal for a, yVal in zip(x, y) if xVal==a])) for xVal in set(x)))\n",
    "plt.plot(r,s,'r*')\n",
    "plt.xticks(rotation=90)\n",
    "plt.show()"
   ]
  },
  {
   "cell_type": "code",
   "execution_count": 77,
   "metadata": {},
   "outputs": [],
   "source": [
    "movie=pd.concat([movie, pd.get_dummies(movie['content_rating'], prefix='content_rating', dummy_na=False)],axis=1)\n",
    "content_rating_df = pd.DataFrame()\n",
    "for col in movie.columns:\n",
    "    if col.startswith('content_rating_'):\n",
    "        content_rating_df = content_rating_df.append({'content':col, 'correlation':movie.corr()['imdb_score'][col]}, ignore_index=True)"
   ]
  },
  {
   "cell_type": "code",
   "execution_count": 78,
   "metadata": {},
   "outputs": [
    {
     "data": {
      "text/html": [
       "<div>\n",
       "<style scoped>\n",
       "    .dataframe tbody tr th:only-of-type {\n",
       "        vertical-align: middle;\n",
       "    }\n",
       "\n",
       "    .dataframe tbody tr th {\n",
       "        vertical-align: top;\n",
       "    }\n",
       "\n",
       "    .dataframe thead th {\n",
       "        text-align: right;\n",
       "    }\n",
       "</style>\n",
       "<table border=\"1\" class=\"dataframe\">\n",
       "  <thead>\n",
       "    <tr style=\"text-align: right;\">\n",
       "      <th></th>\n",
       "      <th>content</th>\n",
       "      <th>correlation</th>\n",
       "    </tr>\n",
       "  </thead>\n",
       "  <tbody>\n",
       "    <tr>\n",
       "      <th>0</th>\n",
       "      <td>content_rating_G</td>\n",
       "      <td>-0.002628</td>\n",
       "    </tr>\n",
       "    <tr>\n",
       "      <th>1</th>\n",
       "      <td>content_rating_NC-17</td>\n",
       "      <td>0.002287</td>\n",
       "    </tr>\n",
       "    <tr>\n",
       "      <th>2</th>\n",
       "      <td>content_rating_Not Rated</td>\n",
       "      <td>0.027108</td>\n",
       "    </tr>\n",
       "    <tr>\n",
       "      <th>3</th>\n",
       "      <td>content_rating_PG</td>\n",
       "      <td>-0.075362</td>\n",
       "    </tr>\n",
       "    <tr>\n",
       "      <th>4</th>\n",
       "      <td>content_rating_PG-13</td>\n",
       "      <td>-0.115094</td>\n",
       "    </tr>\n",
       "    <tr>\n",
       "      <th>5</th>\n",
       "      <td>content_rating_R</td>\n",
       "      <td>0.146804</td>\n",
       "    </tr>\n",
       "    <tr>\n",
       "      <th>6</th>\n",
       "      <td>content_rating_Unrated</td>\n",
       "      <td>0.026286</td>\n",
       "    </tr>\n",
       "  </tbody>\n",
       "</table>\n",
       "</div>"
      ],
      "text/plain": [
       "                    content  correlation\n",
       "0          content_rating_G    -0.002628\n",
       "1      content_rating_NC-17     0.002287\n",
       "2  content_rating_Not Rated     0.027108\n",
       "3         content_rating_PG    -0.075362\n",
       "4      content_rating_PG-13    -0.115094\n",
       "5          content_rating_R     0.146804\n",
       "6    content_rating_Unrated     0.026286"
      ]
     },
     "execution_count": 78,
     "metadata": {},
     "output_type": "execute_result"
    }
   ],
   "source": [
    "content_rating_df"
   ]
  },
  {
   "cell_type": "code",
   "execution_count": 79,
   "metadata": {},
   "outputs": [
    {
     "data": {
      "text/plain": [
       "Index(['num_critic_for_reviews', 'duration', 'director_facebook_likes',\n",
       "       'actor_3_facebook_likes', 'actor_1_facebook_likes', 'gross',\n",
       "       'num_voted_users', 'cast_total_facebook_likes', 'facenumber_in_poster',\n",
       "       'num_user_for_reviews', 'budget', 'title_year',\n",
       "       'actor_2_facebook_likes', 'imdb_score', 'movie_facebook_likes',\n",
       "       'country_Others', 'country_UK', 'country_USA', 'content_rating_PG',\n",
       "       'content_rating_PG-13', 'content_rating_R'],\n",
       "      dtype='object')"
      ]
     },
     "execution_count": 79,
     "metadata": {},
     "output_type": "execute_result"
    }
   ],
   "source": [
    "#Drop columns with less correlation\n",
    "movie.drop(columns=['content_rating'], inplace = True)\n",
    "movie.drop(columns=['content_rating_G'], inplace = True)\n",
    "movie.drop(columns=['content_rating_NC-17'], inplace = True)\n",
    "movie.drop(columns=['content_rating_Not Rated'], inplace = True)\n",
    "movie.drop(columns=['content_rating_Unrated'], inplace = True)\n",
    "movie.columns"
   ]
  },
  {
   "cell_type": "markdown",
   "metadata": {},
   "source": [
    "#### CORRELATION AND FEATURE REDUCTION"
   ]
  },
  {
   "cell_type": "code",
   "execution_count": 80,
   "metadata": {},
   "outputs": [
    {
     "data": {
      "text/plain": [
       "<matplotlib.axes._subplots.AxesSubplot at 0x2c8db11b108>"
      ]
     },
     "execution_count": 80,
     "metadata": {},
     "output_type": "execute_result"
    },
    {
     "data": {
      "image/png": "[encoded data removed]",
      "text/plain": [
       "<Figure size 432x288 with 2 Axes>"
      ]
     },
     "metadata": {
      "needs_background": "light"
     },
     "output_type": "display_data"
    }
   ],
   "source": [
    "sns.heatmap(movie.corr())"
   ]
  },
  {
   "cell_type": "code",
   "execution_count": 81,
   "metadata": {},
   "outputs": [
    {
     "data": {
      "text/plain": [
       "<matplotlib.axes._subplots.AxesSubplot at 0x2c8dae5c648>"
      ]
     },
     "execution_count": 81,
     "metadata": {},
     "output_type": "execute_result"
    },
    {
     "data": {
      "image/png": "[encoded data removed]",
      "text/plain": [
       "<Figure size 432x288 with 2 Axes>"
      ]
     },
     "metadata": {
      "needs_background": "light"
     },
     "output_type": "display_data"
    }
   ],
   "source": [
    "sns.heatmap(movie[['director_facebook_likes', 'actor_3_facebook_likes', 'actor_1_facebook_likes', 'actor_2_facebook_likes', 'cast_total_facebook_likes', 'movie_facebook_likes']].corr(), annot=True)"
   ]
  },
  {
   "cell_type": "code",
   "execution_count": 82,
   "metadata": {},
   "outputs": [],
   "source": [
    "#We can see cast total facebook likes is highly correlated to actor_1 facebooks likes\n",
    "#At the same time director and movie facebook likes are uncorrelated with others, so we can keep them.\n",
    "movie['other_actor_facebook_likes'] =  movie['actor_3_facebook_likes']+movie['actor_2_facebook_likes']\n",
    "movie.drop(columns=['actor_2_facebook_likes', 'actor_3_facebook_likes', 'cast_total_facebook_likes'], inplace = True)"
   ]
  },
  {
   "cell_type": "code",
   "execution_count": 83,
   "metadata": {},
   "outputs": [
    {
     "data": {
      "text/plain": [
       "<matplotlib.axes._subplots.AxesSubplot at 0x2c8d9b59b48>"
      ]
     },
     "execution_count": 83,
     "metadata": {},
     "output_type": "execute_result"
    },
    {
     "data": {
      "image/png": "[encoded data removed]",
      "text/plain": [
       "<Figure size 432x288 with 2 Axes>"
      ]
     },
     "metadata": {
      "needs_background": "light"
     },
     "output_type": "display_data"
    }
   ],
   "source": [
    "sns.heatmap(movie[['num_voted_users', 'num_user_for_reviews', 'num_critic_for_reviews', 'imdb_score']].corr(), annot=True)"
   ]
  },
  {
   "cell_type": "code",
   "execution_count": 84,
   "metadata": {},
   "outputs": [
    {
     "data": {
      "text/plain": [
       "<matplotlib.axes._subplots.AxesSubplot at 0x2c8d9ab4408>"
      ]
     },
     "execution_count": 84,
     "metadata": {},
     "output_type": "execute_result"
    },
    {
     "data": {
      "image/png": "[encoded data removed]",
      "text/plain": [
       "<Figure size 432x288 with 2 Axes>"
      ]
     },
     "metadata": {
      "needs_background": "light"
     },
     "output_type": "display_data"
    }
   ],
   "source": [
    "movie['critic_user_review_sum'] = movie['num_critic_for_reviews']+movie['num_user_for_reviews']\n",
    "sns.heatmap(movie[['num_voted_users', 'num_user_for_reviews', 'num_critic_for_reviews','critic_user_review_sum', 'imdb_score']].corr(), annot=True)"
   ]
  },
  {
   "cell_type": "code",
   "execution_count": 85,
   "metadata": {},
   "outputs": [
    {
     "data": {
      "text/plain": [
       "Index(['duration', 'director_facebook_likes', 'actor_1_facebook_likes',\n",
       "       'gross', 'num_voted_users', 'facenumber_in_poster', 'budget',\n",
       "       'title_year', 'imdb_score', 'movie_facebook_likes', 'country_Others',\n",
       "       'country_UK', 'country_USA', 'content_rating_PG',\n",
       "       'content_rating_PG-13', 'content_rating_R',\n",
       "       'other_actor_facebook_likes', 'critic_user_review_sum'],\n",
       "      dtype='object')"
      ]
     },
     "execution_count": 85,
     "metadata": {},
     "output_type": "execute_result"
    }
   ],
   "source": [
    "movie.drop(columns=['num_user_for_reviews', 'num_critic_for_reviews'], inplace = True)\n",
    "movie.columns"
   ]
  },
  {
   "cell_type": "code",
   "execution_count": 86,
   "metadata": {},
   "outputs": [
    {
     "data": {
      "text/plain": [
       "<matplotlib.axes._subplots.AxesSubplot at 0x2c8daf93dc8>"
      ]
     },
     "execution_count": 86,
     "metadata": {},
     "output_type": "execute_result"
    },
    {
     "data": {
      "image/png": "[encoded data removed]",
      "text/plain": [
       "<Figure size 432x288 with 2 Axes>"
      ]
     },
     "metadata": {
      "needs_background": "light"
     },
     "output_type": "display_data"
    }
   ],
   "source": [
    "movie['profit_percentage'] = ((movie['gross']-movie['budget'])/movie['budget'])*100\n",
    "sns.heatmap(movie[['profit_percentage', 'gross', 'budget', 'imdb_score']].corr(), annot=True)"
   ]
  },
  {
   "cell_type": "code",
   "execution_count": 87,
   "metadata": {},
   "outputs": [
    {
     "data": {
      "text/plain": [
       "Index(['duration', 'director_facebook_likes', 'actor_1_facebook_likes',\n",
       "       'gross', 'num_voted_users', 'facenumber_in_poster', 'budget',\n",
       "       'title_year', 'imdb_score', 'movie_facebook_likes', 'country_Others',\n",
       "       'country_UK', 'country_USA', 'content_rating_PG',\n",
       "       'content_rating_PG-13', 'content_rating_R',\n",
       "       'other_actor_facebook_likes', 'critic_user_review_sum'],\n",
       "      dtype='object')"
      ]
     },
     "execution_count": 87,
     "metadata": {},
     "output_type": "execute_result"
    }
   ],
   "source": [
    "# profit_percentage is of no use\n",
    "movie.drop(columns=['profit_percentage'], inplace = True)\n",
    "movie.columns"
   ]
  },
  {
   "cell_type": "code",
   "execution_count": 88,
   "metadata": {},
   "outputs": [],
   "source": [
    "movie = movie.rename(columns={'director_facebook_likes': 'director_likes', \n",
    "                              'actor_1_facebook_likes' : 'main_actor_likes',\n",
    "                              'num_voted_users': 'votes',\n",
    "                              'title_year':'year',\n",
    "                              'movie_facebook_likes':'movie_likes',\n",
    "                              'content_rating_PG':'content_PG',\n",
    "                              'content_rating_PG-13':'content_PG-13',\n",
    "                              'content_rating_R':'content_R',\n",
    "                              'other_actor_facebook_likes':'other_actors_likes',\n",
    "                              'critic_user_review_sum':'reviews'})"
   ]
  },
  {
   "cell_type": "code",
   "execution_count": 89,
   "metadata": {},
   "outputs": [
    {
     "data": {
      "text/plain": [
       "Index(['duration', 'director_likes', 'main_actor_likes', 'gross', 'votes',\n",
       "       'facenumber_in_poster', 'budget', 'year', 'imdb_score', 'movie_likes',\n",
       "       'country_Others', 'country_UK', 'country_USA', 'content_PG',\n",
       "       'content_PG-13', 'content_R', 'other_actors_likes', 'reviews'],\n",
       "      dtype='object')"
      ]
     },
     "execution_count": 89,
     "metadata": {},
     "output_type": "execute_result"
    }
   ],
   "source": [
    "movie.columns"
   ]
  },
  {
   "cell_type": "markdown",
   "metadata": {},
   "source": [
    "### TRAINING AND EVALUATION OF MODEL"
   ]
  },
  {
   "cell_type": "code",
   "execution_count": 90,
   "metadata": {},
   "outputs": [
    {
     "name": "stdout",
     "output_type": "stream",
     "text": [
      "2622 Train data,  1125 Test data.\n"
     ]
    },
    {
     "name": "stderr",
     "output_type": "stream",
     "text": [
      "c:\\users\\vivek\\.conda\\envs\\machine_learning\\lib\\site-packages\\pandas\\core\\frame.py:3997: SettingWithCopyWarning: \n",
      "A value is trying to be set on a copy of a slice from a DataFrame\n",
      "\n",
      "See the caveats in the documentation: https://pandas.pydata.org/pandas-docs/stable/user_guide/indexing.html#returning-a-view-versus-a-copy\n",
      "  errors=errors,\n"
     ]
    }
   ],
   "source": [
    "data_split = StratifiedShuffleSplit(n_splits = 1, test_size = 0.3, random_state = 42)\n",
    "movie['score_category'] = np.ceil(movie['imdb_score'])\n",
    "movie['score_category'].where(movie['score_category']<9, 9.0, inplace = True)\n",
    "for train_index, test_index in data_split.split(movie, movie['score_category']):\n",
    "    movie_train = movie.iloc[train_index]\n",
    "    movie_test = movie.iloc[test_index]\n",
    "print(len(movie_train), 'Train data, ', len(movie_test), 'Test data.')\n",
    "movie_train.drop(columns=['score_category'], inplace = True)\n",
    "movie_test.drop(columns=['score_category'], inplace = True)"
   ]
  },
  {
   "cell_type": "code",
   "execution_count": 91,
   "metadata": {},
   "outputs": [
    {
     "name": "stdout",
     "output_type": "stream",
     "text": [
      "<class 'pandas.core.frame.DataFrame'>\n",
      "RangeIndex: 2622 entries, 0 to 2621\n",
      "Data columns (total 18 columns):\n",
      " #   Column                Non-Null Count  Dtype  \n",
      "---  ------                --------------  -----  \n",
      " 0   duration              2622 non-null   float64\n",
      " 1   director_likes        2622 non-null   float64\n",
      " 2   main_actor_likes      2622 non-null   float64\n",
      " 3   gross                 2622 non-null   float64\n",
      " 4   votes                 2622 non-null   int64  \n",
      " 5   facenumber_in_poster  2622 non-null   float64\n",
      " 6   budget                2622 non-null   float64\n",
      " 7   year                  2622 non-null   float64\n",
      " 8   imdb_score            2622 non-null   float64\n",
      " 9   movie_likes           2622 non-null   float64\n",
      " 10  country_Others        2622 non-null   uint8  \n",
      " 11  country_UK            2622 non-null   uint8  \n",
      " 12  country_USA           2622 non-null   uint8  \n",
      " 13  content_PG            2622 non-null   uint8  \n",
      " 14  content_PG-13         2622 non-null   uint8  \n",
      " 15  content_R             2622 non-null   uint8  \n",
      " 16  other_actors_likes    2622 non-null   float64\n",
      " 17  reviews               2622 non-null   float64\n",
      "dtypes: float64(11), int64(1), uint8(6)\n",
      "memory usage: 261.3 KB\n"
     ]
    }
   ],
   "source": [
    "movie_train.reset_index(inplace = True)\n",
    "movie_train.drop(columns=['index'], inplace = True)\n",
    "movie_train.info()"
   ]
  },
  {
   "cell_type": "code",
   "execution_count": 92,
   "metadata": {},
   "outputs": [
    {
     "name": "stdout",
     "output_type": "stream",
     "text": [
      "<class 'pandas.core.frame.DataFrame'>\n",
      "RangeIndex: 1125 entries, 0 to 1124\n",
      "Data columns (total 18 columns):\n",
      " #   Column                Non-Null Count  Dtype  \n",
      "---  ------                --------------  -----  \n",
      " 0   duration              1125 non-null   float64\n",
      " 1   director_likes        1125 non-null   float64\n",
      " 2   main_actor_likes      1125 non-null   float64\n",
      " 3   gross                 1125 non-null   float64\n",
      " 4   votes                 1125 non-null   int64  \n",
      " 5   facenumber_in_poster  1125 non-null   float64\n",
      " 6   budget                1125 non-null   float64\n",
      " 7   year                  1125 non-null   float64\n",
      " 8   imdb_score            1125 non-null   float64\n",
      " 9   movie_likes           1125 non-null   float64\n",
      " 10  country_Others        1125 non-null   uint8  \n",
      " 11  country_UK            1125 non-null   uint8  \n",
      " 12  country_USA           1125 non-null   uint8  \n",
      " 13  content_PG            1125 non-null   uint8  \n",
      " 14  content_PG-13         1125 non-null   uint8  \n",
      " 15  content_R             1125 non-null   uint8  \n",
      " 16  other_actors_likes    1125 non-null   float64\n",
      " 17  reviews               1125 non-null   float64\n",
      "dtypes: float64(11), int64(1), uint8(6)\n",
      "memory usage: 112.2 KB\n"
     ]
    }
   ],
   "source": [
    "movie_test.reset_index(inplace = True)\n",
    "movie_test.drop(columns=['index'], inplace = True)\n",
    "movie_test.info()\n",
    "#Now we will not use our movie_test till our model is finalized."
   ]
  },
  {
   "cell_type": "code",
   "execution_count": 93,
   "metadata": {},
   "outputs": [],
   "source": [
    "y = np.asarray(movie_train['imdb_score'].copy()).reshape(-1,1)\n",
    "X = np.asarray(movie_train.drop(columns=['imdb_score']).copy())"
   ]
  },
  {
   "cell_type": "markdown",
   "metadata": {},
   "source": [
    "#### LINEAR REGRESSION - VALIDATION ON TRAINING DATA"
   ]
  },
  {
   "cell_type": "code",
   "execution_count": 94,
   "metadata": {},
   "outputs": [
    {
     "name": "stdout",
     "output_type": "stream",
     "text": [
      "Bias = [21.53188837] and coeficients are [[ 1.06542110e-02  1.30754946e-05  3.01896871e-06 -1.30667978e-09\n",
      "   3.44663897e-06 -2.60679277e-02 -8.41287899e-12 -7.93460806e-03\n",
      "   7.03371817e-06  8.63894039e-02  1.55117751e-01 -2.41507154e-01\n",
      "  -4.96451916e-01 -6.09138071e-01 -3.37222529e-01 -1.20163268e-06\n",
      "  -2.62109801e-04]]\n"
     ]
    }
   ],
   "source": [
    "lin_reg = LinearRegression()\n",
    "lin_reg.fit(X, y)\n",
    "print('Bias = {} and coeficients are {}'.format(lin_reg.intercept_, lin_reg.coef_))"
   ]
  },
  {
   "cell_type": "code",
   "execution_count": 95,
   "metadata": {},
   "outputs": [],
   "source": [
    "predicted = lin_reg.predict(X)"
   ]
  },
  {
   "cell_type": "code",
   "execution_count": 96,
   "metadata": {},
   "outputs": [
    {
     "data": {
      "image/png": "[encoded data removed]",
      "text/plain": [
       "<Figure size 432x288 with 1 Axes>"
      ]
     },
     "metadata": {
      "needs_background": "light"
     },
     "output_type": "display_data"
    }
   ],
   "source": [
    "x_axis = list(range(50))\n",
    "plt.plot(x_axis, predicted[50:100], 'b-', label='Predicted')\n",
    "plt.plot(x_axis, y[50:100], 'g-', label='Actual')\n",
    "plt.legend()\n",
    "plt.show()"
   ]
  },
  {
   "cell_type": "code",
   "execution_count": 97,
   "metadata": {},
   "outputs": [
    {
     "name": "stdout",
     "output_type": "stream",
     "text": [
      "RMSE for Linear Regression on, evaluated on training set - 0.8464329794227455\n"
     ]
    }
   ],
   "source": [
    "#Evaluation\n",
    "mse = mean_squared_error(y, predicted)\n",
    "rmse = np.sqrt(mse)\n",
    "print('RMSE for Linear Regression on, evaluated on training set -', rmse)"
   ]
  },
  {
   "cell_type": "markdown",
   "metadata": {},
   "source": [
    "#### DECISION-TREE - VALIDATION ON TRAINING DATA"
   ]
  },
  {
   "cell_type": "code",
   "execution_count": 98,
   "metadata": {},
   "outputs": [
    {
     "data": {
      "text/plain": [
       "DecisionTreeRegressor(ccp_alpha=0.0, criterion='mse', max_depth=None,\n",
       "                      max_features=None, max_leaf_nodes=None,\n",
       "                      min_impurity_decrease=0.0, min_impurity_split=None,\n",
       "                      min_samples_leaf=1, min_samples_split=2,\n",
       "                      min_weight_fraction_leaf=0.0, presort='deprecated',\n",
       "                      random_state=None, splitter='best')"
      ]
     },
     "execution_count": 98,
     "metadata": {},
     "output_type": "execute_result"
    }
   ],
   "source": [
    "dec_reg = DecisionTreeRegressor()\n",
    "dec_reg.fit(X, y)"
   ]
  },
  {
   "cell_type": "code",
   "execution_count": 99,
   "metadata": {},
   "outputs": [],
   "source": [
    "predicted = dec_reg.predict(X)"
   ]
  },
  {
   "cell_type": "code",
   "execution_count": 100,
   "metadata": {},
   "outputs": [
    {
     "data": {
      "image/png": "[encoded data removed]",
      "text/plain": [
       "<Figure size 432x288 with 1 Axes>"
      ]
     },
     "metadata": {
      "needs_background": "light"
     },
     "output_type": "display_data"
    }
   ],
   "source": [
    "x_axis = list(range(50))\n",
    "plt.plot(x_axis, predicted[50:100], 'b-', label='Predicted')\n",
    "plt.plot(x_axis, y[50:100], 'g-', label='Actual')\n",
    "plt.legend()\n",
    "plt.show()"
   ]
  },
  {
   "cell_type": "code",
   "execution_count": 101,
   "metadata": {},
   "outputs": [
    {
     "name": "stdout",
     "output_type": "stream",
     "text": [
      "RMSE for Linear Regression on, evaluated on training set - 1.6816971954885568e-16\n"
     ]
    }
   ],
   "source": [
    "#Evaluation\n",
    "mse = mean_squared_error(y, predicted)\n",
    "rmse = np.sqrt(mse)\n",
    "print('RMSE for Linear Regression on, evaluated on training set -', rmse)\n",
    "#Performance is too good to be true\n",
    "#Because when we use decision tree for regression, without tweaking the parameters, it always overfits the data."
   ]
  },
  {
   "cell_type": "markdown",
   "metadata": {},
   "source": [
    "#### LINEAR REGRESSION - CROSS VALIDATION"
   ]
  },
  {
   "cell_type": "code",
   "execution_count": 102,
   "metadata": {},
   "outputs": [
    {
     "data": {
      "image/png": "[encoded data removed]",
      "text/plain": [
       "<Figure size 432x288 with 1 Axes>"
      ]
     },
     "metadata": {
      "needs_background": "light"
     },
     "output_type": "display_data"
    }
   ],
   "source": [
    "lin_reg_cross = LinearRegression()\n",
    "predicted = cross_val_predict(lin_reg_cross, X, y, cv=10)\n",
    "x_axis = list(range(50))\n",
    "plt.plot(x_axis, predicted[50:100], 'b-', label='Predicted')\n",
    "plt.plot(x_axis, y[50:100], 'g-', label='Actual')\n",
    "plt.legend()\n",
    "plt.show()"
   ]
  },
  {
   "cell_type": "code",
   "execution_count": 103,
   "metadata": {},
   "outputs": [
    {
     "name": "stdout",
     "output_type": "stream",
     "text": [
      "RMSE for Linear Regression on, cross-validated on training set - 0.8829977446949073\n"
     ]
    }
   ],
   "source": [
    "#Evaluation\n",
    "mse = mean_squared_error(y, predicted)\n",
    "rmse = np.sqrt(mse)\n",
    "print('RMSE for Linear Regression on, cross-validated on training set -', rmse)"
   ]
  },
  {
   "cell_type": "markdown",
   "metadata": {},
   "source": [
    "#### DECISION-TREE - CROSS VALIDATION"
   ]
  },
  {
   "cell_type": "code",
   "execution_count": 104,
   "metadata": {},
   "outputs": [
    {
     "data": {
      "image/png": "[encoded data removed]",
      "text/plain": [
       "<Figure size 432x288 with 1 Axes>"
      ]
     },
     "metadata": {
      "needs_background": "light"
     },
     "output_type": "display_data"
    }
   ],
   "source": [
    "dec_reg_cross = DecisionTreeRegressor()\n",
    "predicted = cross_val_predict(dec_reg_cross, X, y, cv=10)\n",
    "x_axis = list(range(50))\n",
    "plt.plot(x_axis, predicted[50:100], 'b-', label='Predicted')\n",
    "plt.plot(x_axis, y[50:100], 'g-', label='Actual')\n",
    "plt.legend()\n",
    "plt.show()"
   ]
  },
  {
   "cell_type": "code",
   "execution_count": 105,
   "metadata": {},
   "outputs": [
    {
     "name": "stdout",
     "output_type": "stream",
     "text": [
      "RMSE for decission tree Regression on, cross-validated on training set - 1.05252049375715\n"
     ]
    }
   ],
   "source": [
    "mse = mean_squared_error(y, predicted)\n",
    "rmse = np.sqrt(mse)\n",
    "print('RMSE for decission tree Regression on, cross-validated on training set -', rmse)\n",
    "# We can conclude that linear regression is better than decission tree regressor"
   ]
  },
  {
   "cell_type": "markdown",
   "metadata": {},
   "source": [
    "### LINEAR REGRESSION - EVALUATION ON TESTING DATA"
   ]
  },
  {
   "cell_type": "code",
   "execution_count": 106,
   "metadata": {},
   "outputs": [],
   "source": [
    "y = np.asarray(movie_test['imdb_score'].copy()).reshape(-1,1)\n",
    "X = np.asarray(movie_test.drop(columns=['imdb_score']).copy())"
   ]
  },
  {
   "cell_type": "code",
   "execution_count": 107,
   "metadata": {},
   "outputs": [],
   "source": [
    "predicted = lin_reg.predict(X)"
   ]
  },
  {
   "cell_type": "code",
   "execution_count": 108,
   "metadata": {},
   "outputs": [
    {
     "data": {
      "image/png": "[encoded data removed]",
      "text/plain": [
       "<Figure size 432x288 with 1 Axes>"
      ]
     },
     "metadata": {
      "needs_background": "light"
     },
     "output_type": "display_data"
    }
   ],
   "source": [
    "x_axis = list(range(50))\n",
    "plt.plot(x_axis, predicted[50:100], 'b-', label='Predicted')\n",
    "plt.plot(x_axis, y[50:100], 'g-', label='Actual')\n",
    "plt.legend()\n",
    "plt.show()"
   ]
  },
  {
   "cell_type": "code",
   "execution_count": 109,
   "metadata": {},
   "outputs": [
    {
     "name": "stdout",
     "output_type": "stream",
     "text": [
      "RMSE for Linear Regression on, evaluated on test dataset - 0.8577023969065022\n"
     ]
    }
   ],
   "source": [
    "#Evaluation\n",
    "mse = mean_squared_error(y, predicted)\n",
    "rmse = np.sqrt(mse)\n",
    "print('RMSE for Linear Regression on, evaluated on test dataset -', rmse)"
   ]
  },
  {
   "cell_type": "code",
   "execution_count": 110,
   "metadata": {},
   "outputs": [],
   "source": [
    "def mean_absolute_percentage_error(y, predicted):\n",
    "    return (((abs(predicted.reshape(-1,1)-y)/y)*100).sum())/len(predicted)"
   ]
  },
  {
   "cell_type": "code",
   "execution_count": 111,
   "metadata": {},
   "outputs": [
    {
     "name": "stdout",
     "output_type": "stream",
     "text": [
      "mean absolute percentage error : 11.47370621535863 %\n"
     ]
    }
   ],
   "source": [
    "print('mean absolute percentage error :', mean_absolute_percentage_error(y, predicted), '%')"
   ]
  },
  {
   "cell_type": "code",
   "execution_count": 112,
   "metadata": {},
   "outputs": [
    {
     "name": "stdout",
     "output_type": "stream",
     "text": [
      "minimum error - 0.0002572465749999253\n",
      "maximum error - 5.451133691698351\n"
     ]
    }
   ],
   "source": [
    "min_gap = np.inf\n",
    "max_gap = 0\n",
    "error = []\n",
    "for i, j in enumerate(predicted.reshape(1,-1)[0]):\n",
    "    error.append(abs(j-y.reshape(1,-1)[0][i]))\n",
    "    if abs(j-y.reshape(1,-1)[0][i]) < min_gap:\n",
    "        min_gap = abs(j-y.reshape(1,-1)[0][i])\n",
    "    if abs(j-y.reshape(1,-1)[0][i]) > max_gap:\n",
    "        max_gap = abs(j-y.reshape(1,-1)[0][i])\n",
    "print('minimum error -', min_gap)\n",
    "print('maximum error -', max_gap)"
   ]
  },
  {
   "cell_type": "code",
   "execution_count": 113,
   "metadata": {},
   "outputs": [
    {
     "data": {
      "image/png": "[encoded data removed]",
      "text/plain": [
       "<Figure size 432x288 with 1 Axes>"
      ]
     },
     "metadata": {
      "needs_background": "light"
     },
     "output_type": "display_data"
    }
   ],
   "source": [
    "plt.hist(error, bins=30, alpha=0.5, histtype='bar', ec='black')\n",
    "plt.xlabel('Error')\n",
    "plt.show()"
   ]
  },
  {
   "cell_type": "markdown",
   "metadata": {},
   "source": [
    "### PREPARING NEW UN-LABELED DATA FOR PREDICTION"
   ]
  },
  {
   "cell_type": "code",
   "execution_count": 114,
   "metadata": {},
   "outputs": [],
   "source": [
    "def preprocessing(data):\n",
    "    data.drop(columns=['color', 'director_name', 'actor_2_name', 'actor_1_name', 'movie_title', 'plot_keywords', 'movie_imdb_link', 'language', 'actor_3_name', 'genres', 'aspect_ratio'], inplace = True)\n",
    "    data['reviews'] = data['num_critic_for_reviews']+data['num_user_for_reviews']\n",
    "    data.drop(columns=['num_critic_for_reviews', 'num_user_for_reviews'], inplace = True)\n",
    "    data['other_actors_likes'] = data['actor_3_facebook_likes'] + data['actor_2_facebook_likes']\n",
    "    data['country_UK'] = 0\n",
    "    data['country_USA'] = 0\n",
    "    data['country_Others'] = 0\n",
    "    data.loc[(data['country']=='USA'), 'country_USA'] = 1\n",
    "    data.loc[(data['country']=='UK'), 'country_UK'] = 1\n",
    "    data.loc[data['country'].isin(['UK', 'USA']) == False, 'country_Others'] = 1\n",
    "    data.drop(columns=['country', 'actor_3_facebook_likes', 'actor_2_facebook_likes'], inplace = True)\n",
    "    data['content_PG'] = 0\n",
    "    data['content_PG-13'] = 0\n",
    "    data['content_R'] = 0\n",
    "    data.loc[data['content_rating']=='TV-PG', 'content_rating'] = 'PG'\n",
    "    data.loc[data['content_rating']=='TV-14', 'content_rating'] = 'PG-13'\n",
    "    data.loc[(data['content_rating']=='PG'), 'content_PG'] = 1\n",
    "    data.loc[(data['content_rating']=='PG-13'), 'content_PG-13'] = 1\n",
    "    data.loc[(data['content_rating']=='R'), 'content_R'] = 1\n",
    "    data.drop(columns=['content_rating'], inplace = True)\n",
    "    data.drop(columns=['cast_total_facebook_likes'],inplace=True)\n",
    "    data = data.rename(columns={'director_facebook_likes': 'director_likes', \n",
    "                              'actor_1_facebook_likes' : 'main_actor_likes',\n",
    "                              'num_voted_users': 'votes',\n",
    "                              'title_year':'year',\n",
    "                              'movie_facebook_likes':'movie_likes'})\n",
    "    cols = ['duration', 'director_likes', 'main_actor_likes', 'gross', 'votes', 'facenumber_in_poster', 'budget', 'year', 'movie_likes', 'country_Others', 'country_UK', 'country_USA', 'content_PG', 'content_PG-13', 'content_R', 'other_actors_likes', 'reviews']\n",
    "    data = data[cols]\n",
    "    X = np.asarray(data)\n",
    "    return X"
   ]
  },
  {
   "cell_type": "code",
   "execution_count": 115,
   "metadata": {},
   "outputs": [],
   "source": [
    "# new_data - dataframe without imdb_score column\n",
    "# prediction = lin_reg.predict(preprocessing(new_data))"
   ]
  }
 ],
 "metadata": {
  "kernelspec": {
   "display_name": "Python 3",
   "language": "python",
   "name": "python3"
  },
  "language_info": {
   "codemirror_mode": {
    "name": "ipython",
    "version": 3
   },
   "file_extension": ".py",
   "mimetype": "text/x-python",
   "name": "python",
   "nbconvert_exporter": "python",
   "pygments_lexer": "ipython3",
   "version": "3.7.7"
  }
 },
 "nbformat": 4,
 "nbformat_minor": 4
}
