{
 "cells": [
  {
   "cell_type": "code",
   "execution_count": 1,
   "metadata": {},
   "outputs": [
    {
     "name": "stderr",
     "output_type": "stream",
     "text": [
      "Using TensorFlow backend.\n"
     ]
    }
   ],
   "source": [
    "import pandas as pd\n",
    "import matplotlib.pyplot as plt\n",
    "from tqdm import tqdm\n",
    "import numpy as np\n",
    "import statistics\n",
    "from sklearn.impute import SimpleImputer\n",
    "import seaborn as sns\n",
    "from sklearn.model_selection import StratifiedShuffleSplit\n",
    "from sklearn.metrics import mean_squared_error\n",
    "from sklearn.tree import DecisionTreeRegressor\n",
    "from sklearn.model_selection import cross_val_score, cross_val_predict\n",
    "from sklearn.linear_model import SGDClassifier\n",
    "from sklearn.metrics import confusion_matrix\n",
    "from sklearn.ensemble import RandomForestClassifier\n",
    "from imblearn.over_sampling import SMOTE\n",
    "from sklearn import svm\n",
    "from sklearn.neighbors import KNeighborsClassifier\n",
    "from sklearn.preprocessing import StandardScaler\n",
    "from sklearn.metrics import precision_score, recall_score, f1_score"
   ]
  },
  {
   "cell_type": "code",
   "execution_count": 2,
   "metadata": {},
   "outputs": [],
   "source": [
    "movie = pd.read_csv('movie_metadata.csv')"
   ]
  },
  {
   "cell_type": "code",
   "execution_count": 3,
   "metadata": {},
   "outputs": [
    {
     "data": {
      "text/plain": [
       "(4998, 29)"
      ]
     },
     "execution_count": 3,
     "metadata": {},
     "output_type": "execute_result"
    }
   ],
   "source": [
    "movie = movie.drop_duplicates()\n",
    "movie.reset_index(inplace=True)\n",
    "movie.shape"
   ]
  },
  {
   "cell_type": "markdown",
   "metadata": {},
   "source": [
    "### DATA EXPLORATION AND CLEANING"
   ]
  },
  {
   "cell_type": "code",
   "execution_count": 4,
   "metadata": {},
   "outputs": [],
   "source": [
    "# As we did the whole process in previous part(Regression modelling), we can speed up the process here.\n",
    "# Although we dont need to do the encoding for categorical variables for most of the classification models.\n",
    "# We will still do the encoding as algorithms such as svm and knn requires encoding"
   ]
  },
  {
   "cell_type": "code",
   "execution_count": 5,
   "metadata": {},
   "outputs": [
    {
     "name": "stdout",
     "output_type": "stream",
     "text": [
      "cast_total_facebook_likes - [3969.]\n",
      "director_facebook_likes - [92.]\n",
      "actor_1_facebook_likes - [1000.]\n",
      "movie_facebook_likes - [10000.]\n",
      "actor_2_facebook_likes - [681.]\n",
      "duration - [105.]\n",
      "facenumber_in_poster - [1.]\n",
      "num_user_for_reviews - [200.]\n",
      "actor_3_facebook_likes - [436.]\n",
      "num_critic_for_reviews - [135.]\n",
      "budget - [25000000.]\n",
      "gross - [27669413.]\n"
     ]
    }
   ],
   "source": [
    "movie = movie[movie['title_year']>1980]\n",
    "columns = ['actor_1_facebook_likes', 'cast_total_facebook_likes', 'actor_2_facebook_likes', 'actor_3_facebook_likes', 'director_facebook_likes', 'movie_facebook_likes']\n",
    "for cols in columns:\n",
    "    movie.loc[movie[cols]==0, cols] = np.nan\n",
    "movie.dropna(subset=['gross'],inplace=True)\n",
    "movie.dropna(subset=['budget'],inplace=True)\n",
    "columns = ['cast_total_facebook_likes', 'director_facebook_likes', 'actor_1_facebook_likes', 'movie_facebook_likes', 'actor_2_facebook_likes', 'duration', 'facenumber_in_poster', 'num_user_for_reviews', 'actor_3_facebook_likes', 'num_critic_for_reviews', 'budget', 'gross']\n",
    "for cols in columns:\n",
    "    imputer = SimpleImputer(strategy = 'median')\n",
    "    imputer.fit(np.asarray(movie[cols]).reshape(-1, 1))\n",
    "    print(cols, '-', imputer.statistics_)\n",
    "    filled = imputer.transform(np.asarray(movie[cols]).reshape(-1, 1))\n",
    "    movie[cols]=filled"
   ]
  },
  {
   "cell_type": "code",
   "execution_count": 6,
   "metadata": {},
   "outputs": [],
   "source": [
    "def preprocessing_trainingSet(data):\n",
    "    data.drop(columns=['color', 'director_name', 'actor_2_name', 'actor_1_name', 'movie_title', 'plot_keywords', 'movie_imdb_link', 'language', 'actor_3_name', 'genres', 'aspect_ratio'], inplace = True)\n",
    "    data['reviews'] = data['num_critic_for_reviews']+data['num_user_for_reviews']\n",
    "    data.drop(columns=['num_critic_for_reviews', 'num_user_for_reviews'], inplace = True)\n",
    "    data['other_actors_likes'] = data['actor_3_facebook_likes'] + data['actor_2_facebook_likes']\n",
    "    data['country_UK'] = 0\n",
    "    data['country_USA'] = 0\n",
    "    data['country_Others'] = 0\n",
    "    data.loc[(data['country']=='USA'), 'country_USA'] = 1\n",
    "    data.loc[(data['country']=='UK'), 'country_UK'] = 1\n",
    "    data.loc[data['country'].isin(['UK', 'USA']) == False, 'country_Others'] = 1\n",
    "    data.drop(columns=['country', 'actor_3_facebook_likes', 'actor_2_facebook_likes'], inplace = True)\n",
    "    data['content_PG'] = 0\n",
    "    data['content_PG-13'] = 0\n",
    "    data['content_R'] = 0\n",
    "    data.loc[data['content_rating']=='TV-PG', 'content_rating'] = 'PG'\n",
    "    data.loc[data['content_rating']=='TV-14', 'content_rating'] = 'PG-13'\n",
    "    data.loc[(data['content_rating']=='PG'), 'content_PG'] = 1\n",
    "    data.loc[(data['content_rating']=='PG-13'), 'content_PG-13'] = 1\n",
    "    data.loc[(data['content_rating']=='R'), 'content_R'] = 1\n",
    "    data.drop(columns=['content_rating'], inplace = True)\n",
    "    data.drop(columns=['cast_total_facebook_likes'],inplace=True)\n",
    "    data = data.rename(columns={'director_facebook_likes': 'director_likes', \n",
    "                              'actor_1_facebook_likes' : 'main_actor_likes',\n",
    "                              'num_voted_users': 'votes',\n",
    "                              'title_year':'year',\n",
    "                              'movie_facebook_likes':'movie_likes'})\n",
    "    cols = ['duration', 'director_likes', 'main_actor_likes', 'gross', 'votes', 'facenumber_in_poster', 'budget', 'year', 'movie_likes', 'country_Others', 'country_UK', 'country_USA', 'content_PG', 'content_PG-13', 'content_R', 'other_actors_likes', 'reviews', 'imdb_score']\n",
    "    data = data[cols]\n",
    "    #X = np.asarray(data)\n",
    "    return data"
   ]
  },
  {
   "cell_type": "code",
   "execution_count": 7,
   "metadata": {},
   "outputs": [
    {
     "name": "stdout",
     "output_type": "stream",
     "text": [
      "<class 'pandas.core.frame.DataFrame'>\n",
      "Int64Index: 3747 entries, 0 to 4997\n",
      "Data columns (total 18 columns):\n",
      " #   Column                Non-Null Count  Dtype  \n",
      "---  ------                --------------  -----  \n",
      " 0   duration              3747 non-null   float64\n",
      " 1   director_likes        3747 non-null   float64\n",
      " 2   main_actor_likes      3747 non-null   float64\n",
      " 3   gross                 3747 non-null   float64\n",
      " 4   votes                 3747 non-null   int64  \n",
      " 5   facenumber_in_poster  3747 non-null   float64\n",
      " 6   budget                3747 non-null   float64\n",
      " 7   year                  3747 non-null   float64\n",
      " 8   movie_likes           3747 non-null   float64\n",
      " 9   country_Others        3747 non-null   int64  \n",
      " 10  country_UK            3747 non-null   int64  \n",
      " 11  country_USA           3747 non-null   int64  \n",
      " 12  content_PG            3747 non-null   int64  \n",
      " 13  content_PG-13         3747 non-null   int64  \n",
      " 14  content_R             3747 non-null   int64  \n",
      " 15  other_actors_likes    3747 non-null   float64\n",
      " 16  reviews               3747 non-null   float64\n",
      " 17  imdb_score            3747 non-null   float64\n",
      "dtypes: float64(11), int64(7)\n",
      "memory usage: 556.2 KB\n"
     ]
    }
   ],
   "source": [
    "movie = preprocessing_trainingSet(movie)\n",
    "movie.info()"
   ]
  },
  {
   "cell_type": "code",
   "execution_count": 8,
   "metadata": {},
   "outputs": [
    {
     "data": {
      "text/plain": [
       "Hit Movie        2683\n",
       "Average Movie    1039\n",
       "Flop Movie         25\n",
       "Name: imdb_category, dtype: int64"
      ]
     },
     "execution_count": 8,
     "metadata": {},
     "output_type": "execute_result"
    }
   ],
   "source": [
    "# Defining Categories of IMDB Score\n",
    "movie.loc[(movie['imdb_score']>0) & (movie['imdb_score']<3), 'imdb_category'] = 'Flop Movie'\n",
    "movie.loc[(movie['imdb_score']>=3) & (movie['imdb_score']<6), 'imdb_category'] = 'Average Movie'\n",
    "movie.loc[(movie['imdb_score']>=6) & (movie['imdb_score']<10), 'imdb_category'] = 'Hit Movie'\n",
    "movie.drop(columns = ['imdb_score'], inplace = True)\n",
    "movie['imdb_category'].value_counts()"
   ]
  },
  {
   "cell_type": "markdown",
   "metadata": {},
   "source": [
    "### TRAINING AND EVALUATING MODELS"
   ]
  },
  {
   "cell_type": "code",
   "execution_count": 9,
   "metadata": {},
   "outputs": [
    {
     "name": "stdout",
     "output_type": "stream",
     "text": [
      "2622 Train data,  1125 Test data.\n"
     ]
    }
   ],
   "source": [
    "data_split = StratifiedShuffleSplit(n_splits = 1, test_size = 0.3, random_state = 42)\n",
    "for train_index, test_index in data_split.split(movie, movie['imdb_category']):\n",
    "    movie_train = movie.iloc[train_index]\n",
    "    movie_test = movie.iloc[test_index]\n",
    "print(len(movie_train), 'Train data, ', len(movie_test), 'Test data.')"
   ]
  },
  {
   "cell_type": "code",
   "execution_count": 10,
   "metadata": {},
   "outputs": [
    {
     "name": "stdout",
     "output_type": "stream",
     "text": [
      "<class 'pandas.core.frame.DataFrame'>\n",
      "RangeIndex: 2622 entries, 0 to 2621\n",
      "Data columns (total 18 columns):\n",
      " #   Column                Non-Null Count  Dtype  \n",
      "---  ------                --------------  -----  \n",
      " 0   duration              2622 non-null   float64\n",
      " 1   director_likes        2622 non-null   float64\n",
      " 2   main_actor_likes      2622 non-null   float64\n",
      " 3   gross                 2622 non-null   float64\n",
      " 4   votes                 2622 non-null   int64  \n",
      " 5   facenumber_in_poster  2622 non-null   float64\n",
      " 6   budget                2622 non-null   float64\n",
      " 7   year                  2622 non-null   float64\n",
      " 8   movie_likes           2622 non-null   float64\n",
      " 9   country_Others        2622 non-null   int64  \n",
      " 10  country_UK            2622 non-null   int64  \n",
      " 11  country_USA           2622 non-null   int64  \n",
      " 12  content_PG            2622 non-null   int64  \n",
      " 13  content_PG-13         2622 non-null   int64  \n",
      " 14  content_R             2622 non-null   int64  \n",
      " 15  other_actors_likes    2622 non-null   float64\n",
      " 16  reviews               2622 non-null   float64\n",
      " 17  imdb_category         2622 non-null   object \n",
      "dtypes: float64(10), int64(7), object(1)\n",
      "memory usage: 368.8+ KB\n"
     ]
    },
    {
     "name": "stderr",
     "output_type": "stream",
     "text": [
      "c:\\users\\vivek\\.conda\\envs\\machine_learning\\lib\\site-packages\\pandas\\core\\frame.py:3997: SettingWithCopyWarning: \n",
      "A value is trying to be set on a copy of a slice from a DataFrame\n",
      "\n",
      "See the caveats in the documentation: https://pandas.pydata.org/pandas-docs/stable/user_guide/indexing.html#returning-a-view-versus-a-copy\n",
      "  errors=errors,\n"
     ]
    }
   ],
   "source": [
    "movie_train.reset_index(inplace = True)\n",
    "movie_train.drop(columns=['index'], inplace = True)\n",
    "movie_train.info()"
   ]
  },
  {
   "cell_type": "code",
   "execution_count": 11,
   "metadata": {},
   "outputs": [
    {
     "name": "stdout",
     "output_type": "stream",
     "text": [
      "<class 'pandas.core.frame.DataFrame'>\n",
      "RangeIndex: 1125 entries, 0 to 1124\n",
      "Data columns (total 18 columns):\n",
      " #   Column                Non-Null Count  Dtype  \n",
      "---  ------                --------------  -----  \n",
      " 0   duration              1125 non-null   float64\n",
      " 1   director_likes        1125 non-null   float64\n",
      " 2   main_actor_likes      1125 non-null   float64\n",
      " 3   gross                 1125 non-null   float64\n",
      " 4   votes                 1125 non-null   int64  \n",
      " 5   facenumber_in_poster  1125 non-null   float64\n",
      " 6   budget                1125 non-null   float64\n",
      " 7   year                  1125 non-null   float64\n",
      " 8   movie_likes           1125 non-null   float64\n",
      " 9   country_Others        1125 non-null   int64  \n",
      " 10  country_UK            1125 non-null   int64  \n",
      " 11  country_USA           1125 non-null   int64  \n",
      " 12  content_PG            1125 non-null   int64  \n",
      " 13  content_PG-13         1125 non-null   int64  \n",
      " 14  content_R             1125 non-null   int64  \n",
      " 15  other_actors_likes    1125 non-null   float64\n",
      " 16  reviews               1125 non-null   float64\n",
      " 17  imdb_category         1125 non-null   object \n",
      "dtypes: float64(10), int64(7), object(1)\n",
      "memory usage: 158.3+ KB\n"
     ]
    }
   ],
   "source": [
    "movie_test.reset_index(inplace = True)\n",
    "movie_test.drop(columns=['index'], inplace = True)\n",
    "movie_test.info()\n",
    "#Now we will not use our movie_test till our model is finalized."
   ]
  },
  {
   "cell_type": "code",
   "execution_count": 12,
   "metadata": {},
   "outputs": [],
   "source": [
    "y = np.asarray(movie_train['imdb_category'].copy()).reshape(-1,1)\n",
    "X = np.asarray(movie_train.drop(columns=['imdb_category']).copy())\n",
    "scaler = StandardScaler()\n",
    "X = scaler.fit_transform(X)"
   ]
  },
  {
   "cell_type": "code",
   "execution_count": 13,
   "metadata": {},
   "outputs": [],
   "source": [
    "model_comparision = pd.DataFrame(columns = ['Model', 'Accuracy', 'Precision', 'Recall', 'F1'])"
   ]
  },
  {
   "cell_type": "markdown",
   "metadata": {},
   "source": [
    "#### SGD Classifier without Over-Sampling"
   ]
  },
  {
   "cell_type": "code",
   "execution_count": 14,
   "metadata": {},
   "outputs": [],
   "source": [
    "sgd_clf = SGDClassifier(random_state = 42)\n",
    "train_predicted = cross_val_predict(sgd_clf, X, y.reshape(1,-1)[0], cv=3)\n",
    "conf_mx = confusion_matrix(y, train_predicted)"
   ]
  },
  {
   "cell_type": "code",
   "execution_count": 15,
   "metadata": {},
   "outputs": [
    {
     "data": {
      "image/png": "[encoded data removed]",
      "text/plain": [
       "<Figure size 288x288 with 1 Axes>"
      ]
     },
     "metadata": {
      "needs_background": "light"
     },
     "output_type": "display_data"
    }
   ],
   "source": [
    "plt.matshow(conf_mx)\n",
    "alpha = ['Average', 'Flop', 'Hit']\n",
    "alpha_i= list(range(len(alpha)))\n",
    "plt.xticks(alpha_i, alpha)\n",
    "plt.yticks(alpha_i, alpha)\n",
    "for (i, j), z in np.ndenumerate(conf_mx):\n",
    "    plt.text(j, i, '{:0.1f}'.format(z), ha='center', va='center')\n",
    "plt.show()"
   ]
  },
  {
   "cell_type": "code",
   "execution_count": 16,
   "metadata": {},
   "outputs": [],
   "source": [
    "def get_accuracy(mat):\n",
    "    acc = 0\n",
    "    tot = 0\n",
    "    for i in range(3):\n",
    "        for j in range(3):\n",
    "            tot += mat[i][j]\n",
    "            if i == j:\n",
    "                acc += mat[i][j]\n",
    "    return acc/tot"
   ]
  },
  {
   "cell_type": "code",
   "execution_count": 17,
   "metadata": {},
   "outputs": [],
   "source": [
    "accuracy = get_accuracy(conf_mx)\n",
    "precision = precision_score(y, train_predicted, average=\"macro\")\n",
    "recall = recall_score(y, train_predicted, average=\"macro\")\n",
    "f1 = f1_score(y, train_predicted, average=\"macro\")\n",
    "model_comparision = model_comparision.append({'Model':'SGD W/O Oversampling', 'Accuracy':accuracy, 'Precision':precision, 'Recall':recall, 'F1':f1}, ignore_index=True)"
   ]
  },
  {
   "cell_type": "code",
   "execution_count": 18,
   "metadata": {},
   "outputs": [
    {
     "data": {
      "text/plain": [
       "Hit Movie        1877\n",
       "Average Movie     727\n",
       "Flop Movie         18\n",
       "Name: imdb_category, dtype: int64"
      ]
     },
     "execution_count": 18,
     "metadata": {},
     "output_type": "execute_result"
    }
   ],
   "source": [
    "movie_train['imdb_category'].value_counts()\n",
    "# We have to oversample the imbalanced dataset to get some better results"
   ]
  },
  {
   "cell_type": "markdown",
   "metadata": {},
   "source": [
    "#### OVER-SAMPLING ON IMBALANCED DATASET"
   ]
  },
  {
   "cell_type": "code",
   "execution_count": 19,
   "metadata": {},
   "outputs": [],
   "source": [
    "smote = SMOTE('minority')\n",
    "X_os, y_os = smote.fit_sample(X, y)\n",
    "X_os, y_os = smote.fit_sample(X_os, y_os)\n",
    "# We have to do over-sampling twice as there are two minority classes."
   ]
  },
  {
   "cell_type": "markdown",
   "metadata": {},
   "source": [
    "#### SGD Classifier"
   ]
  },
  {
   "cell_type": "code",
   "execution_count": 20,
   "metadata": {},
   "outputs": [],
   "source": [
    "train_predicted = cross_val_predict(sgd_clf, X_os, y_os, cv=3)\n",
    "conf_mx = confusion_matrix(y_os, train_predicted)"
   ]
  },
  {
   "cell_type": "code",
   "execution_count": 21,
   "metadata": {},
   "outputs": [
    {
     "data": {
      "image/png": "[encoded data removed]",
      "text/plain": [
       "<Figure size 288x288 with 1 Axes>"
      ]
     },
     "metadata": {
      "needs_background": "light"
     },
     "output_type": "display_data"
    }
   ],
   "source": [
    "plt.matshow(conf_mx)\n",
    "alpha = ['Average', 'Flop', 'Hit']\n",
    "alpha_i= list(range(len(alpha)))\n",
    "plt.xticks(alpha_i, alpha)\n",
    "plt.yticks(alpha_i, alpha)\n",
    "for (i, j), z in np.ndenumerate(conf_mx):\n",
    "    plt.text(j, i, '{:0.1f}'.format(z), ha='center', va='center')\n",
    "plt.show()"
   ]
  },
  {
   "cell_type": "code",
   "execution_count": 22,
   "metadata": {},
   "outputs": [],
   "source": [
    "accuracy = get_accuracy(conf_mx)\n",
    "precision = precision_score(y_os, train_predicted, average=\"macro\")\n",
    "recall = recall_score(y_os, train_predicted, average=\"macro\")\n",
    "f1 = f1_score(y_os, train_predicted, average=\"macro\")\n",
    "model_comparision = model_comparision.append({'Model':'SGD', 'Accuracy':accuracy, 'Precision':precision, 'Recall':recall, 'F1':f1}, ignore_index=True)"
   ]
  },
  {
   "cell_type": "markdown",
   "metadata": {},
   "source": [
    "#### Random Forest"
   ]
  },
  {
   "cell_type": "code",
   "execution_count": 23,
   "metadata": {},
   "outputs": [],
   "source": [
    "forest_clf = RandomForestClassifier(random_state = 42)\n",
    "train_predicted = cross_val_predict(forest_clf, X_os, y_os, cv=3)\n",
    "conf_mx = confusion_matrix(y_os, train_predicted)"
   ]
  },
  {
   "cell_type": "code",
   "execution_count": 24,
   "metadata": {},
   "outputs": [
    {
     "data": {
      "image/png": "[encoded data removed]",
      "text/plain": [
       "<Figure size 288x288 with 1 Axes>"
      ]
     },
     "metadata": {
      "needs_background": "light"
     },
     "output_type": "display_data"
    }
   ],
   "source": [
    "plt.matshow(conf_mx)\n",
    "alpha = ['Average', 'Flop', 'Hit']\n",
    "alpha_i= list(range(len(alpha)))\n",
    "plt.xticks(alpha_i, alpha)\n",
    "plt.yticks(alpha_i, alpha)\n",
    "for (i, j), z in np.ndenumerate(conf_mx):\n",
    "    plt.text(j, i, '{:0.1f}'.format(z), ha='center', va='center')\n",
    "plt.show()"
   ]
  },
  {
   "cell_type": "code",
   "execution_count": 25,
   "metadata": {},
   "outputs": [],
   "source": [
    "accuracy = get_accuracy(conf_mx)\n",
    "precision = precision_score(y_os, train_predicted, average=\"macro\")\n",
    "recall = recall_score(y_os, train_predicted, average=\"macro\")\n",
    "f1 = f1_score(y_os, train_predicted, average=\"macro\")\n",
    "model_comparision = model_comparision.append({'Model':'Random Forest', 'Accuracy':accuracy, 'Precision':precision, 'Recall':recall, 'F1':f1}, ignore_index=True)"
   ]
  },
  {
   "cell_type": "markdown",
   "metadata": {},
   "source": [
    "#### SVM Classifier - Support Vector Classification"
   ]
  },
  {
   "cell_type": "code",
   "execution_count": 26,
   "metadata": {},
   "outputs": [],
   "source": [
    "svm_clf = svm.SVC(random_state = 42)\n",
    "train_predicted = cross_val_predict(svm_clf, X_os, y_os, cv=3)\n",
    "conf_mx = confusion_matrix(y_os, train_predicted)"
   ]
  },
  {
   "cell_type": "code",
   "execution_count": 27,
   "metadata": {},
   "outputs": [
    {
     "data": {
      "image/png": "[encoded data removed]",
      "text/plain": [
       "<Figure size 288x288 with 1 Axes>"
      ]
     },
     "metadata": {
      "needs_background": "light"
     },
     "output_type": "display_data"
    }
   ],
   "source": [
    "plt.matshow(conf_mx)\n",
    "alpha = ['Average', 'Flop', 'Hit']\n",
    "alpha_i= list(range(len(alpha)))\n",
    "plt.xticks(alpha_i, alpha)\n",
    "plt.yticks(alpha_i, alpha)\n",
    "for (i, j), z in np.ndenumerate(conf_mx):\n",
    "    plt.text(j, i, '{:0.1f}'.format(z), ha='center', va='center')\n",
    "plt.show()"
   ]
  },
  {
   "cell_type": "code",
   "execution_count": 28,
   "metadata": {},
   "outputs": [],
   "source": [
    "accuracy = get_accuracy(conf_mx)\n",
    "precision = precision_score(y_os, train_predicted, average=\"macro\")\n",
    "recall = recall_score(y_os, train_predicted, average=\"macro\")\n",
    "f1 = f1_score(y_os, train_predicted, average=\"macro\")\n",
    "model_comparision = model_comparision.append({'Model':'SVM (SVC)', 'Accuracy':accuracy, 'Precision':precision, 'Recall':recall, 'F1':f1}, ignore_index=True)"
   ]
  },
  {
   "cell_type": "code",
   "execution_count": 29,
   "metadata": {},
   "outputs": [
    {
     "name": "stderr",
     "output_type": "stream",
     "text": [
      "c:\\users\\vivek\\.conda\\envs\\machine_learning\\lib\\site-packages\\sklearn\\svm\\_base.py:947: ConvergenceWarning: Liblinear failed to converge, increase the number of iterations.\n",
      "  \"the number of iterations.\", ConvergenceWarning)\n",
      "c:\\users\\vivek\\.conda\\envs\\machine_learning\\lib\\site-packages\\sklearn\\svm\\_base.py:947: ConvergenceWarning: Liblinear failed to converge, increase the number of iterations.\n",
      "  \"the number of iterations.\", ConvergenceWarning)\n",
      "c:\\users\\vivek\\.conda\\envs\\machine_learning\\lib\\site-packages\\sklearn\\svm\\_base.py:947: ConvergenceWarning: Liblinear failed to converge, increase the number of iterations.\n",
      "  \"the number of iterations.\", ConvergenceWarning)\n"
     ]
    }
   ],
   "source": [
    "svm_clf = svm.LinearSVC(random_state = 42, max_iter = 10000)\n",
    "train_predicted = cross_val_predict(svm_clf, X_os, y_os, cv=3)\n",
    "conf_mx = confusion_matrix(y_os, train_predicted)"
   ]
  },
  {
   "cell_type": "code",
   "execution_count": 30,
   "metadata": {},
   "outputs": [
    {
     "data": {
      "image/png": "[encoded data removed]",
      "text/plain": [
       "<Figure size 288x288 with 1 Axes>"
      ]
     },
     "metadata": {
      "needs_background": "light"
     },
     "output_type": "display_data"
    }
   ],
   "source": [
    "plt.matshow(conf_mx)\n",
    "alpha = ['Average', 'Flop', 'Hit']\n",
    "alpha_i= list(range(len(alpha)))\n",
    "plt.xticks(alpha_i, alpha)\n",
    "plt.yticks(alpha_i, alpha)\n",
    "for (i, j), z in np.ndenumerate(conf_mx):\n",
    "    plt.text(j, i, '{:0.1f}'.format(z), ha='center', va='center')\n",
    "plt.show()"
   ]
  },
  {
   "cell_type": "code",
   "execution_count": 31,
   "metadata": {},
   "outputs": [],
   "source": [
    "accuracy = get_accuracy(conf_mx)\n",
    "precision = precision_score(y_os, train_predicted, average=\"macro\")\n",
    "recall = recall_score(y_os, train_predicted, average=\"macro\")\n",
    "f1 = f1_score(y_os, train_predicted, average=\"macro\")\n",
    "model_comparision = model_comparision.append({'Model':'SVM (Linear SVC)', 'Accuracy':accuracy, 'Precision':precision, 'Recall':recall, 'F1':f1}, ignore_index=True)"
   ]
  },
  {
   "cell_type": "markdown",
   "metadata": {},
   "source": [
    "#### K-NN Algorithm"
   ]
  },
  {
   "cell_type": "code",
   "execution_count": 32,
   "metadata": {},
   "outputs": [],
   "source": [
    "# Creating odd list K for KNN\n",
    "neighbors = list(range(1,50,2))\n",
    "# empty list that will hold cv scores\n",
    "cv_scores = [ ]\n",
    "#perform 10-fold cross-validation\n",
    "for K in neighbors:\n",
    "    knn = KNeighborsClassifier(n_neighbors = K)\n",
    "    scores = cross_val_score(knn,X_os,y_os,cv = 10,scoring =\n",
    "    \"accuracy\")\n",
    "    cv_scores.append(scores.mean())"
   ]
  },
  {
   "cell_type": "code",
   "execution_count": 33,
   "metadata": {},
   "outputs": [
    {
     "name": "stdout",
     "output_type": "stream",
     "text": [
      "The optimal no. of neighbors is 1\n"
     ]
    }
   ],
   "source": [
    "# Changing to mse classification error\n",
    "mse = [1-x for x in cv_scores]\n",
    "# determing best k\n",
    "optimal_k = neighbors[mse.index(min(mse))]\n",
    "print(\"The optimal no. of neighbors is {}\".format(optimal_k))"
   ]
  },
  {
   "cell_type": "code",
   "execution_count": 34,
   "metadata": {},
   "outputs": [
    {
     "data": {
      "image/png": "[encoded data removed]",
      "text/plain": [
       "<Figure size 648x432 with 1 Axes>"
      ]
     },
     "metadata": {
      "needs_background": "light"
     },
     "output_type": "display_data"
    }
   ],
   "source": [
    "def plot_accuracy(knn_list_scores):\n",
    "    pd.DataFrame({\"K\":[i for i in range(1,50,2)], \"Accuracy\":knn_list_scores}).set_index(\"K\").plot.bar(figsize= (9,6),rot=0)\n",
    "    plt.show()\n",
    "plot_accuracy(cv_scores)"
   ]
  },
  {
   "cell_type": "code",
   "execution_count": 35,
   "metadata": {},
   "outputs": [],
   "source": [
    "knn_clf = KNeighborsClassifier(n_neighbors=1)\n",
    "train_predicted = cross_val_predict(knn_clf, X_os, y_os, cv=3)\n",
    "conf_mx = confusion_matrix(y_os, train_predicted)"
   ]
  },
  {
   "cell_type": "code",
   "execution_count": 36,
   "metadata": {},
   "outputs": [
    {
     "data": {
      "image/png": "[encoded data removed]",
      "text/plain": [
       "<Figure size 288x288 with 1 Axes>"
      ]
     },
     "metadata": {
      "needs_background": "light"
     },
     "output_type": "display_data"
    }
   ],
   "source": [
    "plt.matshow(conf_mx)\n",
    "alpha = ['Average', 'Flop', 'Hit']\n",
    "alpha_i= list(range(len(alpha)))\n",
    "plt.xticks(alpha_i, alpha)\n",
    "plt.yticks(alpha_i, alpha)\n",
    "for (i, j), z in np.ndenumerate(conf_mx):\n",
    "    plt.text(j, i, '{:0.1f}'.format(z), ha='center', va='center')\n",
    "plt.show()"
   ]
  },
  {
   "cell_type": "code",
   "execution_count": 37,
   "metadata": {},
   "outputs": [],
   "source": [
    "accuracy = get_accuracy(conf_mx)\n",
    "precision = precision_score(y_os, train_predicted, average=\"macro\")\n",
    "recall = recall_score(y_os, train_predicted, average=\"macro\")\n",
    "f1 = f1_score(y_os, train_predicted, average=\"macro\")\n",
    "model_comparision = model_comparision.append({'Model':'KNN', 'Accuracy':accuracy, 'Precision':precision, 'Recall':recall, 'F1':f1}, ignore_index=True)"
   ]
  },
  {
   "cell_type": "code",
   "execution_count": 38,
   "metadata": {},
   "outputs": [
    {
     "data": {
      "text/html": [
       "<div>\n",
       "<style scoped>\n",
       "    .dataframe tbody tr th:only-of-type {\n",
       "        vertical-align: middle;\n",
       "    }\n",
       "\n",
       "    .dataframe tbody tr th {\n",
       "        vertical-align: top;\n",
       "    }\n",
       "\n",
       "    .dataframe thead th {\n",
       "        text-align: right;\n",
       "    }\n",
       "</style>\n",
       "<table border=\"1\" class=\"dataframe\">\n",
       "  <thead>\n",
       "    <tr style=\"text-align: right;\">\n",
       "      <th></th>\n",
       "      <th>Model</th>\n",
       "      <th>Accuracy</th>\n",
       "      <th>Precision</th>\n",
       "      <th>Recall</th>\n",
       "      <th>F1</th>\n",
       "    </tr>\n",
       "  </thead>\n",
       "  <tbody>\n",
       "    <tr>\n",
       "      <th>0</th>\n",
       "      <td>SGD W/O Oversampling</td>\n",
       "      <td>0.741800</td>\n",
       "      <td>0.450457</td>\n",
       "      <td>0.440921</td>\n",
       "      <td>0.444316</td>\n",
       "    </tr>\n",
       "    <tr>\n",
       "      <th>1</th>\n",
       "      <td>SGD</td>\n",
       "      <td>0.704848</td>\n",
       "      <td>0.704470</td>\n",
       "      <td>0.704848</td>\n",
       "      <td>0.691990</td>\n",
       "    </tr>\n",
       "    <tr>\n",
       "      <th>4</th>\n",
       "      <td>SVM (Linear SVC)</td>\n",
       "      <td>0.720476</td>\n",
       "      <td>0.717209</td>\n",
       "      <td>0.720476</td>\n",
       "      <td>0.713451</td>\n",
       "    </tr>\n",
       "    <tr>\n",
       "      <th>3</th>\n",
       "      <td>SVM (SVC)</td>\n",
       "      <td>0.818327</td>\n",
       "      <td>0.817810</td>\n",
       "      <td>0.818327</td>\n",
       "      <td>0.814612</td>\n",
       "    </tr>\n",
       "    <tr>\n",
       "      <th>5</th>\n",
       "      <td>KNN</td>\n",
       "      <td>0.880305</td>\n",
       "      <td>0.891967</td>\n",
       "      <td>0.880305</td>\n",
       "      <td>0.877889</td>\n",
       "    </tr>\n",
       "    <tr>\n",
       "      <th>2</th>\n",
       "      <td>Random Forest</td>\n",
       "      <td>0.905168</td>\n",
       "      <td>0.905513</td>\n",
       "      <td>0.905168</td>\n",
       "      <td>0.905033</td>\n",
       "    </tr>\n",
       "  </tbody>\n",
       "</table>\n",
       "</div>"
      ],
      "text/plain": [
       "                  Model  Accuracy  Precision    Recall        F1\n",
       "0  SGD W/O Oversampling  0.741800   0.450457  0.440921  0.444316\n",
       "1                   SGD  0.704848   0.704470  0.704848  0.691990\n",
       "4      SVM (Linear SVC)  0.720476   0.717209  0.720476  0.713451\n",
       "3             SVM (SVC)  0.818327   0.817810  0.818327  0.814612\n",
       "5                   KNN  0.880305   0.891967  0.880305  0.877889\n",
       "2         Random Forest  0.905168   0.905513  0.905168  0.905033"
      ]
     },
     "execution_count": 38,
     "metadata": {},
     "output_type": "execute_result"
    }
   ],
   "source": [
    "model_comparision.sort_values(by=['F1'], inplace = True)\n",
    "model_comparision"
   ]
  },
  {
   "cell_type": "markdown",
   "metadata": {},
   "source": [
    "### EVALUATION ON TEST DATA"
   ]
  },
  {
   "cell_type": "code",
   "execution_count": 39,
   "metadata": {},
   "outputs": [
    {
     "data": {
      "text/plain": [
       "RandomForestClassifier(bootstrap=True, ccp_alpha=0.0, class_weight=None,\n",
       "                       criterion='gini', max_depth=None, max_features='auto',\n",
       "                       max_leaf_nodes=None, max_samples=None,\n",
       "                       min_impurity_decrease=0.0, min_impurity_split=None,\n",
       "                       min_samples_leaf=1, min_samples_split=2,\n",
       "                       min_weight_fraction_leaf=0.0, n_estimators=100,\n",
       "                       n_jobs=None, oob_score=False, random_state=42, verbose=0,\n",
       "                       warm_start=False)"
      ]
     },
     "execution_count": 39,
     "metadata": {},
     "output_type": "execute_result"
    }
   ],
   "source": [
    "# Looking at the above table we should choose Random Forest as our final model.\n",
    "forest_clf.fit(X_os, y_os)"
   ]
  },
  {
   "cell_type": "code",
   "execution_count": 40,
   "metadata": {},
   "outputs": [],
   "source": [
    "y = np.asarray(movie_test['imdb_category'].copy()).reshape(-1,1)\n",
    "X = np.asarray(movie_test.drop(columns=['imdb_category']).copy())\n",
    "X = scaler.transform(X)"
   ]
  },
  {
   "cell_type": "code",
   "execution_count": 41,
   "metadata": {},
   "outputs": [
    {
     "data": {
      "image/png": "[encoded data removed]",
      "text/plain": [
       "<Figure size 288x288 with 1 Axes>"
      ]
     },
     "metadata": {
      "needs_background": "light"
     },
     "output_type": "display_data"
    }
   ],
   "source": [
    "predict = forest_clf.predict(X)\n",
    "conf_mx = confusion_matrix(y, predict)\n",
    "plt.matshow(conf_mx)\n",
    "alpha = ['Average', 'Flop', 'Hit']\n",
    "alpha_i= list(range(len(alpha)))\n",
    "plt.xticks(alpha_i, alpha)\n",
    "plt.yticks(alpha_i, alpha)\n",
    "for (i, j), z in np.ndenumerate(conf_mx):\n",
    "    plt.text(j, i, '{:0.1f}'.format(z), ha='center', va='center')\n",
    "plt.show()"
   ]
  },
  {
   "cell_type": "code",
   "execution_count": 42,
   "metadata": {},
   "outputs": [
    {
     "name": "stdout",
     "output_type": "stream",
     "text": [
      "Accuarcy - 0.7813333333333333\n",
      "Precision - 0.5562121384046063\n",
      "recall - 0.5508586395683169\n",
      "f1 - 0.5506666252426659\n"
     ]
    }
   ],
   "source": [
    "print('Accuarcy -', get_accuracy(conf_mx))\n",
    "print('Precision -', precision_score(y, predict, average=\"macro\"))\n",
    "print('recall -', recall_score(y, predict, average=\"macro\"))\n",
    "print('f1 -', f1_score(y, predict, average=\"macro\"))"
   ]
  }
 ],
 "metadata": {
  "kernelspec": {
   "display_name": "Python 3",
   "language": "python",
   "name": "python3"
  },
  "language_info": {
   "codemirror_mode": {
    "name": "ipython",
    "version": 3
   },
   "file_extension": ".py",
   "mimetype": "text/x-python",
   "name": "python",
   "nbconvert_exporter": "python",
   "pygments_lexer": "ipython3",
   "version": "3.7.7"
  }
 },
 "nbformat": 4,
 "nbformat_minor": 4
}
